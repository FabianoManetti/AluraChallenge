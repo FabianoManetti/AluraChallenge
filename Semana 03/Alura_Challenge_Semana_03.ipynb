{
  "cells": [
    {
      "cell_type": "markdown",
      "metadata": {
        "id": "QpKwujYS-kfP"
      },
      "source": [
        "# Alura Challenge - Semana 03"
      ]
    },
    {
      "cell_type": "markdown",
      "metadata": {
        "id": "EDIQBqdz-kfP"
      },
      "source": [
        "## Objetivos deste trabalho"
      ]
    },
    {
      "cell_type": "markdown",
      "metadata": {
        "id": "LWBO_Zsr-kfQ"
      },
      "source": [
        "•\tVerificar se a variável target está balanceada;\n",
        "\n",
        "•\tAplicar encoding nos seus dados;\n",
        "\n",
        "•\tCriar dois ou mais modelos de Machine Learning;\n",
        "\n",
        "•\tAvaliar cada modelo utilizando métricas de ML;\n",
        "\n",
        "•\tEscolher o melhor modelo;\n",
        "\n",
        "•\tOtimizar o melhor modelo;\n",
        "\n",
        "•\tVerificar qual o melhor tipo de balanceamento com esses dados."
      ]
    },
    {
      "cell_type": "markdown",
      "metadata": {
        "id": "GIlcgzNm-kfQ"
      },
      "source": [
        "## Verificando o balanceamento da variável target Churn"
      ]
    },
    {
      "cell_type": "code",
      "source": [
        "df_churn = pd.read_csv('df_churn.csv')\n",
        "df_churn.head()"
      ],
      "metadata": {
        "colab": {
          "base_uri": "https://localhost:8080/",
          "height": 340
        },
        "id": "VbC1EQ0AKGuU",
        "outputId": "a680239a-bbd6-468a-d4ac-d561f8fd9ca2"
      },
      "execution_count": 68,
      "outputs": [
        {
          "output_type": "execute_result",
          "data": {
            "text/plain": [
              "   ID_Cliente  Churn  Genero  Idoso  Parceiro  Dependentes  Meses_Contrato  \\\n",
              "0  0002-ORFBO      0       0      0         1            1               9   \n",
              "1  0003-MKNFE      0       1      0         0            0               9   \n",
              "2  0004-TLHLJ      1       1      0         0            0               4   \n",
              "3  0011-IGKFF      1       1      1         1            0              13   \n",
              "4  0013-EXCHZ      1       0      1         1            0               3   \n",
              "\n",
              "   Servico_Telefonico  Multiplas_Linhas  Internet  Seguranca_Online  \\\n",
              "0                   1                 0         1                 0   \n",
              "1                   1                 1         1                 0   \n",
              "2                   1                 0         1                 0   \n",
              "3                   1                 0         1                 0   \n",
              "4                   1                 0         1                 0   \n",
              "\n",
              "   Backup_online  Protecao_Dispositivo  Suporte_Tecnico  Streaming_TV  \\\n",
              "0              1                     0                1             1   \n",
              "1              0                     0                0             0   \n",
              "2              0                     1                0             0   \n",
              "3              1                     1                0             1   \n",
              "4              0                     0                1             1   \n",
              "\n",
              "   Streaming_Filmes  Fatura_Online  Gasto_diario  Gasto_Mensal  Gasto_Total  \\\n",
              "0                 0              1          2.19          65.6       593.30   \n",
              "1                 1              0          2.00          59.9       542.40   \n",
              "2                 0              1          2.46          73.9       280.85   \n",
              "3                 1              1          3.27          98.0      1237.85   \n",
              "4                 0              1          2.80          83.9       267.40   \n",
              "\n",
              "   Mensal  Anual  Bianual  Transf_banco  Cartao_credito  Boleto_eletronico  \\\n",
              "0       0      1        0             0               0                  0   \n",
              "1       1      0        0             0               0                  0   \n",
              "2       1      0        0             0               0                  1   \n",
              "3       1      0        0             0               0                  1   \n",
              "4       1      0        0             0               0                  0   \n",
              "\n",
              "   Boleto_correios  \n",
              "0                1  \n",
              "1                1  \n",
              "2                0  \n",
              "3                0  \n",
              "4                1  "
            ],
            "text/html": [
              "\n",
              "  <div id=\"df-dba7be89-7527-4475-a81e-1814f8745c9a\">\n",
              "    <div class=\"colab-df-container\">\n",
              "      <div>\n",
              "<style scoped>\n",
              "    .dataframe tbody tr th:only-of-type {\n",
              "        vertical-align: middle;\n",
              "    }\n",
              "\n",
              "    .dataframe tbody tr th {\n",
              "        vertical-align: top;\n",
              "    }\n",
              "\n",
              "    .dataframe thead th {\n",
              "        text-align: right;\n",
              "    }\n",
              "</style>\n",
              "<table border=\"1\" class=\"dataframe\">\n",
              "  <thead>\n",
              "    <tr style=\"text-align: right;\">\n",
              "      <th></th>\n",
              "      <th>ID_Cliente</th>\n",
              "      <th>Churn</th>\n",
              "      <th>Genero</th>\n",
              "      <th>Idoso</th>\n",
              "      <th>Parceiro</th>\n",
              "      <th>Dependentes</th>\n",
              "      <th>Meses_Contrato</th>\n",
              "      <th>Servico_Telefonico</th>\n",
              "      <th>Multiplas_Linhas</th>\n",
              "      <th>Internet</th>\n",
              "      <th>Seguranca_Online</th>\n",
              "      <th>Backup_online</th>\n",
              "      <th>Protecao_Dispositivo</th>\n",
              "      <th>Suporte_Tecnico</th>\n",
              "      <th>Streaming_TV</th>\n",
              "      <th>Streaming_Filmes</th>\n",
              "      <th>Fatura_Online</th>\n",
              "      <th>Gasto_diario</th>\n",
              "      <th>Gasto_Mensal</th>\n",
              "      <th>Gasto_Total</th>\n",
              "      <th>Mensal</th>\n",
              "      <th>Anual</th>\n",
              "      <th>Bianual</th>\n",
              "      <th>Transf_banco</th>\n",
              "      <th>Cartao_credito</th>\n",
              "      <th>Boleto_eletronico</th>\n",
              "      <th>Boleto_correios</th>\n",
              "    </tr>\n",
              "  </thead>\n",
              "  <tbody>\n",
              "    <tr>\n",
              "      <th>0</th>\n",
              "      <td>0002-ORFBO</td>\n",
              "      <td>0</td>\n",
              "      <td>0</td>\n",
              "      <td>0</td>\n",
              "      <td>1</td>\n",
              "      <td>1</td>\n",
              "      <td>9</td>\n",
              "      <td>1</td>\n",
              "      <td>0</td>\n",
              "      <td>1</td>\n",
              "      <td>0</td>\n",
              "      <td>1</td>\n",
              "      <td>0</td>\n",
              "      <td>1</td>\n",
              "      <td>1</td>\n",
              "      <td>0</td>\n",
              "      <td>1</td>\n",
              "      <td>2.19</td>\n",
              "      <td>65.6</td>\n",
              "      <td>593.30</td>\n",
              "      <td>0</td>\n",
              "      <td>1</td>\n",
              "      <td>0</td>\n",
              "      <td>0</td>\n",
              "      <td>0</td>\n",
              "      <td>0</td>\n",
              "      <td>1</td>\n",
              "    </tr>\n",
              "    <tr>\n",
              "      <th>1</th>\n",
              "      <td>0003-MKNFE</td>\n",
              "      <td>0</td>\n",
              "      <td>1</td>\n",
              "      <td>0</td>\n",
              "      <td>0</td>\n",
              "      <td>0</td>\n",
              "      <td>9</td>\n",
              "      <td>1</td>\n",
              "      <td>1</td>\n",
              "      <td>1</td>\n",
              "      <td>0</td>\n",
              "      <td>0</td>\n",
              "      <td>0</td>\n",
              "      <td>0</td>\n",
              "      <td>0</td>\n",
              "      <td>1</td>\n",
              "      <td>0</td>\n",
              "      <td>2.00</td>\n",
              "      <td>59.9</td>\n",
              "      <td>542.40</td>\n",
              "      <td>1</td>\n",
              "      <td>0</td>\n",
              "      <td>0</td>\n",
              "      <td>0</td>\n",
              "      <td>0</td>\n",
              "      <td>0</td>\n",
              "      <td>1</td>\n",
              "    </tr>\n",
              "    <tr>\n",
              "      <th>2</th>\n",
              "      <td>0004-TLHLJ</td>\n",
              "      <td>1</td>\n",
              "      <td>1</td>\n",
              "      <td>0</td>\n",
              "      <td>0</td>\n",
              "      <td>0</td>\n",
              "      <td>4</td>\n",
              "      <td>1</td>\n",
              "      <td>0</td>\n",
              "      <td>1</td>\n",
              "      <td>0</td>\n",
              "      <td>0</td>\n",
              "      <td>1</td>\n",
              "      <td>0</td>\n",
              "      <td>0</td>\n",
              "      <td>0</td>\n",
              "      <td>1</td>\n",
              "      <td>2.46</td>\n",
              "      <td>73.9</td>\n",
              "      <td>280.85</td>\n",
              "      <td>1</td>\n",
              "      <td>0</td>\n",
              "      <td>0</td>\n",
              "      <td>0</td>\n",
              "      <td>0</td>\n",
              "      <td>1</td>\n",
              "      <td>0</td>\n",
              "    </tr>\n",
              "    <tr>\n",
              "      <th>3</th>\n",
              "      <td>0011-IGKFF</td>\n",
              "      <td>1</td>\n",
              "      <td>1</td>\n",
              "      <td>1</td>\n",
              "      <td>1</td>\n",
              "      <td>0</td>\n",
              "      <td>13</td>\n",
              "      <td>1</td>\n",
              "      <td>0</td>\n",
              "      <td>1</td>\n",
              "      <td>0</td>\n",
              "      <td>1</td>\n",
              "      <td>1</td>\n",
              "      <td>0</td>\n",
              "      <td>1</td>\n",
              "      <td>1</td>\n",
              "      <td>1</td>\n",
              "      <td>3.27</td>\n",
              "      <td>98.0</td>\n",
              "      <td>1237.85</td>\n",
              "      <td>1</td>\n",
              "      <td>0</td>\n",
              "      <td>0</td>\n",
              "      <td>0</td>\n",
              "      <td>0</td>\n",
              "      <td>1</td>\n",
              "      <td>0</td>\n",
              "    </tr>\n",
              "    <tr>\n",
              "      <th>4</th>\n",
              "      <td>0013-EXCHZ</td>\n",
              "      <td>1</td>\n",
              "      <td>0</td>\n",
              "      <td>1</td>\n",
              "      <td>1</td>\n",
              "      <td>0</td>\n",
              "      <td>3</td>\n",
              "      <td>1</td>\n",
              "      <td>0</td>\n",
              "      <td>1</td>\n",
              "      <td>0</td>\n",
              "      <td>0</td>\n",
              "      <td>0</td>\n",
              "      <td>1</td>\n",
              "      <td>1</td>\n",
              "      <td>0</td>\n",
              "      <td>1</td>\n",
              "      <td>2.80</td>\n",
              "      <td>83.9</td>\n",
              "      <td>267.40</td>\n",
              "      <td>1</td>\n",
              "      <td>0</td>\n",
              "      <td>0</td>\n",
              "      <td>0</td>\n",
              "      <td>0</td>\n",
              "      <td>0</td>\n",
              "      <td>1</td>\n",
              "    </tr>\n",
              "  </tbody>\n",
              "</table>\n",
              "</div>\n",
              "      <button class=\"colab-df-convert\" onclick=\"convertToInteractive('df-dba7be89-7527-4475-a81e-1814f8745c9a')\"\n",
              "              title=\"Convert this dataframe to an interactive table.\"\n",
              "              style=\"display:none;\">\n",
              "        \n",
              "  <svg xmlns=\"http://www.w3.org/2000/svg\" height=\"24px\"viewBox=\"0 0 24 24\"\n",
              "       width=\"24px\">\n",
              "    <path d=\"M0 0h24v24H0V0z\" fill=\"none\"/>\n",
              "    <path d=\"M18.56 5.44l.94 2.06.94-2.06 2.06-.94-2.06-.94-.94-2.06-.94 2.06-2.06.94zm-11 1L8.5 8.5l.94-2.06 2.06-.94-2.06-.94L8.5 2.5l-.94 2.06-2.06.94zm10 10l.94 2.06.94-2.06 2.06-.94-2.06-.94-.94-2.06-.94 2.06-2.06.94z\"/><path d=\"M17.41 7.96l-1.37-1.37c-.4-.4-.92-.59-1.43-.59-.52 0-1.04.2-1.43.59L10.3 9.45l-7.72 7.72c-.78.78-.78 2.05 0 2.83L4 21.41c.39.39.9.59 1.41.59.51 0 1.02-.2 1.41-.59l7.78-7.78 2.81-2.81c.8-.78.8-2.07 0-2.86zM5.41 20L4 18.59l7.72-7.72 1.47 1.35L5.41 20z\"/>\n",
              "  </svg>\n",
              "      </button>\n",
              "      \n",
              "  <style>\n",
              "    .colab-df-container {\n",
              "      display:flex;\n",
              "      flex-wrap:wrap;\n",
              "      gap: 12px;\n",
              "    }\n",
              "\n",
              "    .colab-df-convert {\n",
              "      background-color: #E8F0FE;\n",
              "      border: none;\n",
              "      border-radius: 50%;\n",
              "      cursor: pointer;\n",
              "      display: none;\n",
              "      fill: #1967D2;\n",
              "      height: 32px;\n",
              "      padding: 0 0 0 0;\n",
              "      width: 32px;\n",
              "    }\n",
              "\n",
              "    .colab-df-convert:hover {\n",
              "      background-color: #E2EBFA;\n",
              "      box-shadow: 0px 1px 2px rgba(60, 64, 67, 0.3), 0px 1px 3px 1px rgba(60, 64, 67, 0.15);\n",
              "      fill: #174EA6;\n",
              "    }\n",
              "\n",
              "    [theme=dark] .colab-df-convert {\n",
              "      background-color: #3B4455;\n",
              "      fill: #D2E3FC;\n",
              "    }\n",
              "\n",
              "    [theme=dark] .colab-df-convert:hover {\n",
              "      background-color: #434B5C;\n",
              "      box-shadow: 0px 1px 3px 1px rgba(0, 0, 0, 0.15);\n",
              "      filter: drop-shadow(0px 1px 2px rgba(0, 0, 0, 0.3));\n",
              "      fill: #FFFFFF;\n",
              "    }\n",
              "  </style>\n",
              "\n",
              "      <script>\n",
              "        const buttonEl =\n",
              "          document.querySelector('#df-dba7be89-7527-4475-a81e-1814f8745c9a button.colab-df-convert');\n",
              "        buttonEl.style.display =\n",
              "          google.colab.kernel.accessAllowed ? 'block' : 'none';\n",
              "\n",
              "        async function convertToInteractive(key) {\n",
              "          const element = document.querySelector('#df-dba7be89-7527-4475-a81e-1814f8745c9a');\n",
              "          const dataTable =\n",
              "            await google.colab.kernel.invokeFunction('convertToInteractive',\n",
              "                                                     [key], {});\n",
              "          if (!dataTable) return;\n",
              "\n",
              "          const docLinkHtml = 'Like what you see? Visit the ' +\n",
              "            '<a target=\"_blank\" href=https://colab.research.google.com/notebooks/data_table.ipynb>data table notebook</a>'\n",
              "            + ' to learn more about interactive tables.';\n",
              "          element.innerHTML = '';\n",
              "          dataTable['output_type'] = 'display_data';\n",
              "          await google.colab.output.renderOutput(dataTable, element);\n",
              "          const docLink = document.createElement('div');\n",
              "          docLink.innerHTML = docLinkHtml;\n",
              "          element.appendChild(docLink);\n",
              "        }\n",
              "      </script>\n",
              "    </div>\n",
              "  </div>\n",
              "  "
            ]
          },
          "metadata": {},
          "execution_count": 68
        }
      ]
    },
    {
      "cell_type": "code",
      "execution_count": 69,
      "metadata": {
        "colab": {
          "base_uri": "https://localhost:8080/"
        },
        "id": "QTAq0VCB-kfR",
        "outputId": "795890c8-a75f-4db2-a6b9-434c8ec5d8bd"
      },
      "outputs": [
        {
          "output_type": "execute_result",
          "data": {
            "text/plain": [
              "0    73.46\n",
              "1    26.54\n",
              "Name: Churn, dtype: float64"
            ]
          },
          "metadata": {},
          "execution_count": 69
        }
      ],
      "source": [
        "proporcao_churn = round(dataframe_final.Churn.value_counts(normalize = True)*100, 2)\n",
        "proporcao_churn"
      ]
    },
    {
      "cell_type": "markdown",
      "metadata": {
        "id": "Ya10H-UF-kfR"
      },
      "source": [
        "<p style='font-size: 16px; line-height: 2; margin: 10px 50px; text-align: justify;'>Conforme anteriormente avaliado, a variável target Churn está dividida em, aproximadamente, 73,5% 'Não' e 26,5% 'Sim' dos dados do nosso dataset. Desta forma, há um desbalanceamento entre estes valores, o que poderá ocasionar enviesamento e conseguinte interferência no nosso modelo de previsão. Para mitigar este efeito, utilizaremos algumas técnicas de rebalanceamentos de dados: </p>"
      ]
    },
    {
      "cell_type": "markdown",
      "metadata": {
        "id": "K8pDl-l7-kfS"
      },
      "source": [
        "## Tratando o desbalanceamento da variável target Churn"
      ]
    },
    {
      "cell_type": "markdown",
      "metadata": {
        "id": "qFev_f9q-kfS"
      },
      "source": [
        "<p style='font-size: 16px; line-height: 2; margin: 10px 50px; text-align: justify;'>Para tratarmos o desbalanceamento da nossa variável target, duas técnicas consagradas poderão ser utilizadas: undersampling (redução da quantidade de dados do valor 'Não') e oversampling' (ampliação dos dados do valor 'Sim'). Ambas técnicas possuem vantagens e desvantagens intrínsecas. Para este trabalho, iremos avaliar as duas possibilidades de modo a comparar o resultado final obtido em cada técnica. Antes, no entanto, devemos proceder com o pré-processameto dos dados, ou seja, dividi-los entre dados de treino e dados de teste, e também normalizar as features 'Meses_Contrato', 'Gasto_total', 'Gasto_Mensal'. Este procedimento inicial é necessário para evitarmos o chamado 'data leakage' e o conseguinte enviesamento dos modelos.</p>"
      ]
    },
    {
      "cell_type": "markdown",
      "metadata": {
        "id": "crGkDf4vJblo"
      },
      "source": [
        "## Pré-processamento dos dados"
      ]
    },
    {
      "cell_type": "code",
      "execution_count": 70,
      "metadata": {
        "id": "1JLLcSB6Jblo"
      },
      "outputs": [],
      "source": [
        "y = df_churn['Churn']\n",
        "X = df_churn[['Idoso', 'Dependentes', 'Meses_Contrato', 'Internet', 'Fatura_Online', 'Gasto_Mensal', 'Gasto_Total', 'Parceiro',\n",
        "                      'Mensal', 'Bianual', 'Cartao_credito', 'Boleto_eletronico', 'Boleto_correios', 'Transf_banco', 'Anual']]"
      ]
    },
    {
      "cell_type": "code",
      "execution_count": 71,
      "metadata": {
        "id": "8lW0vnXjJblo"
      },
      "outputs": [],
      "source": [
        "X_train, X_test, y_train, y_test = train_test_split(X, y, test_size = 0.20, random_state = 53)"
      ]
    },
    {
      "cell_type": "code",
      "execution_count": 72,
      "metadata": {
        "id": "b-1c9U0uJblo"
      },
      "outputs": [],
      "source": [
        "features_numericas = ['Meses_Contrato', 'Gasto_Total', 'Gasto_Mensal']"
      ]
    },
    {
      "cell_type": "code",
      "execution_count": 73,
      "metadata": {
        "id": "Q4Wc-SkTJblo"
      },
      "outputs": [],
      "source": [
        "X_train_normal = X_train.copy()\n",
        "X_test_normal = X_test.copy()\n",
        "\n",
        "\n",
        "for i in features_numericas:\n",
        "    \n",
        "    scaler = MinMaxScaler()\n",
        "    scaler.fit(X_train_normal[[i]])\n",
        "    scaler.fit(X_test_normal[[i]])\n",
        "\n",
        "    X_train_normal[[i]] = scaler.transform(X_train_normal[[i]])\n",
        "    X_test_normal[[i]] = scaler.transform(X_test_normal[[i]])\n"
      ]
    },
    {
      "cell_type": "code",
      "execution_count": 74,
      "metadata": {
        "colab": {
          "base_uri": "https://localhost:8080/",
          "height": 270
        },
        "id": "SlB1d5V-Jblo",
        "outputId": "75c42944-5b65-4843-865c-fc4bc9f1c8e0"
      },
      "outputs": [
        {
          "output_type": "execute_result",
          "data": {
            "text/plain": [
              "      Idoso  Dependentes  Meses_Contrato  Internet  Fatura_Online  \\\n",
              "5498      0            0        0.708333         1              1   \n",
              "2611      0            0        0.208333         0              0   \n",
              "1282      0            0        0.013889         0              0   \n",
              "5878      0            0        0.277778         1              1   \n",
              "5289      0            0        0.736111         1              1   \n",
              "\n",
              "      Gasto_Mensal  Gasto_Total  Parceiro  Mensal  Bianual  Cartao_credito  \\\n",
              "5498      0.117530     0.174310         1       1        0               1   \n",
              "2611      0.015438     0.032968         0       0        0               0   \n",
              "1282      0.012450     0.000069         0       1        0               0   \n",
              "5878      0.504482     0.155950         0       1        0               1   \n",
              "5289      0.426793     0.385303         0       0        0               0   \n",
              "\n",
              "      Boleto_eletronico  Boleto_correios  Transf_banco  Anual  \n",
              "5498                  0                0             0      0  \n",
              "2611                  0                1             0      1  \n",
              "1282                  0                1             0      0  \n",
              "5878                  0                0             0      0  \n",
              "5289                  1                0             0      1  "
            ],
            "text/html": [
              "\n",
              "  <div id=\"df-3d039c34-9de5-41fa-b9f7-029936f8ffd8\">\n",
              "    <div class=\"colab-df-container\">\n",
              "      <div>\n",
              "<style scoped>\n",
              "    .dataframe tbody tr th:only-of-type {\n",
              "        vertical-align: middle;\n",
              "    }\n",
              "\n",
              "    .dataframe tbody tr th {\n",
              "        vertical-align: top;\n",
              "    }\n",
              "\n",
              "    .dataframe thead th {\n",
              "        text-align: right;\n",
              "    }\n",
              "</style>\n",
              "<table border=\"1\" class=\"dataframe\">\n",
              "  <thead>\n",
              "    <tr style=\"text-align: right;\">\n",
              "      <th></th>\n",
              "      <th>Idoso</th>\n",
              "      <th>Dependentes</th>\n",
              "      <th>Meses_Contrato</th>\n",
              "      <th>Internet</th>\n",
              "      <th>Fatura_Online</th>\n",
              "      <th>Gasto_Mensal</th>\n",
              "      <th>Gasto_Total</th>\n",
              "      <th>Parceiro</th>\n",
              "      <th>Mensal</th>\n",
              "      <th>Bianual</th>\n",
              "      <th>Cartao_credito</th>\n",
              "      <th>Boleto_eletronico</th>\n",
              "      <th>Boleto_correios</th>\n",
              "      <th>Transf_banco</th>\n",
              "      <th>Anual</th>\n",
              "    </tr>\n",
              "  </thead>\n",
              "  <tbody>\n",
              "    <tr>\n",
              "      <th>5498</th>\n",
              "      <td>0</td>\n",
              "      <td>0</td>\n",
              "      <td>0.708333</td>\n",
              "      <td>1</td>\n",
              "      <td>1</td>\n",
              "      <td>0.117530</td>\n",
              "      <td>0.174310</td>\n",
              "      <td>1</td>\n",
              "      <td>1</td>\n",
              "      <td>0</td>\n",
              "      <td>1</td>\n",
              "      <td>0</td>\n",
              "      <td>0</td>\n",
              "      <td>0</td>\n",
              "      <td>0</td>\n",
              "    </tr>\n",
              "    <tr>\n",
              "      <th>2611</th>\n",
              "      <td>0</td>\n",
              "      <td>0</td>\n",
              "      <td>0.208333</td>\n",
              "      <td>0</td>\n",
              "      <td>0</td>\n",
              "      <td>0.015438</td>\n",
              "      <td>0.032968</td>\n",
              "      <td>0</td>\n",
              "      <td>0</td>\n",
              "      <td>0</td>\n",
              "      <td>0</td>\n",
              "      <td>0</td>\n",
              "      <td>1</td>\n",
              "      <td>0</td>\n",
              "      <td>1</td>\n",
              "    </tr>\n",
              "    <tr>\n",
              "      <th>1282</th>\n",
              "      <td>0</td>\n",
              "      <td>0</td>\n",
              "      <td>0.013889</td>\n",
              "      <td>0</td>\n",
              "      <td>0</td>\n",
              "      <td>0.012450</td>\n",
              "      <td>0.000069</td>\n",
              "      <td>0</td>\n",
              "      <td>1</td>\n",
              "      <td>0</td>\n",
              "      <td>0</td>\n",
              "      <td>0</td>\n",
              "      <td>1</td>\n",
              "      <td>0</td>\n",
              "      <td>0</td>\n",
              "    </tr>\n",
              "    <tr>\n",
              "      <th>5878</th>\n",
              "      <td>0</td>\n",
              "      <td>0</td>\n",
              "      <td>0.277778</td>\n",
              "      <td>1</td>\n",
              "      <td>1</td>\n",
              "      <td>0.504482</td>\n",
              "      <td>0.155950</td>\n",
              "      <td>0</td>\n",
              "      <td>1</td>\n",
              "      <td>0</td>\n",
              "      <td>1</td>\n",
              "      <td>0</td>\n",
              "      <td>0</td>\n",
              "      <td>0</td>\n",
              "      <td>0</td>\n",
              "    </tr>\n",
              "    <tr>\n",
              "      <th>5289</th>\n",
              "      <td>0</td>\n",
              "      <td>0</td>\n",
              "      <td>0.736111</td>\n",
              "      <td>1</td>\n",
              "      <td>1</td>\n",
              "      <td>0.426793</td>\n",
              "      <td>0.385303</td>\n",
              "      <td>0</td>\n",
              "      <td>0</td>\n",
              "      <td>0</td>\n",
              "      <td>0</td>\n",
              "      <td>1</td>\n",
              "      <td>0</td>\n",
              "      <td>0</td>\n",
              "      <td>1</td>\n",
              "    </tr>\n",
              "  </tbody>\n",
              "</table>\n",
              "</div>\n",
              "      <button class=\"colab-df-convert\" onclick=\"convertToInteractive('df-3d039c34-9de5-41fa-b9f7-029936f8ffd8')\"\n",
              "              title=\"Convert this dataframe to an interactive table.\"\n",
              "              style=\"display:none;\">\n",
              "        \n",
              "  <svg xmlns=\"http://www.w3.org/2000/svg\" height=\"24px\"viewBox=\"0 0 24 24\"\n",
              "       width=\"24px\">\n",
              "    <path d=\"M0 0h24v24H0V0z\" fill=\"none\"/>\n",
              "    <path d=\"M18.56 5.44l.94 2.06.94-2.06 2.06-.94-2.06-.94-.94-2.06-.94 2.06-2.06.94zm-11 1L8.5 8.5l.94-2.06 2.06-.94-2.06-.94L8.5 2.5l-.94 2.06-2.06.94zm10 10l.94 2.06.94-2.06 2.06-.94-2.06-.94-.94-2.06-.94 2.06-2.06.94z\"/><path d=\"M17.41 7.96l-1.37-1.37c-.4-.4-.92-.59-1.43-.59-.52 0-1.04.2-1.43.59L10.3 9.45l-7.72 7.72c-.78.78-.78 2.05 0 2.83L4 21.41c.39.39.9.59 1.41.59.51 0 1.02-.2 1.41-.59l7.78-7.78 2.81-2.81c.8-.78.8-2.07 0-2.86zM5.41 20L4 18.59l7.72-7.72 1.47 1.35L5.41 20z\"/>\n",
              "  </svg>\n",
              "      </button>\n",
              "      \n",
              "  <style>\n",
              "    .colab-df-container {\n",
              "      display:flex;\n",
              "      flex-wrap:wrap;\n",
              "      gap: 12px;\n",
              "    }\n",
              "\n",
              "    .colab-df-convert {\n",
              "      background-color: #E8F0FE;\n",
              "      border: none;\n",
              "      border-radius: 50%;\n",
              "      cursor: pointer;\n",
              "      display: none;\n",
              "      fill: #1967D2;\n",
              "      height: 32px;\n",
              "      padding: 0 0 0 0;\n",
              "      width: 32px;\n",
              "    }\n",
              "\n",
              "    .colab-df-convert:hover {\n",
              "      background-color: #E2EBFA;\n",
              "      box-shadow: 0px 1px 2px rgba(60, 64, 67, 0.3), 0px 1px 3px 1px rgba(60, 64, 67, 0.15);\n",
              "      fill: #174EA6;\n",
              "    }\n",
              "\n",
              "    [theme=dark] .colab-df-convert {\n",
              "      background-color: #3B4455;\n",
              "      fill: #D2E3FC;\n",
              "    }\n",
              "\n",
              "    [theme=dark] .colab-df-convert:hover {\n",
              "      background-color: #434B5C;\n",
              "      box-shadow: 0px 1px 3px 1px rgba(0, 0, 0, 0.15);\n",
              "      filter: drop-shadow(0px 1px 2px rgba(0, 0, 0, 0.3));\n",
              "      fill: #FFFFFF;\n",
              "    }\n",
              "  </style>\n",
              "\n",
              "      <script>\n",
              "        const buttonEl =\n",
              "          document.querySelector('#df-3d039c34-9de5-41fa-b9f7-029936f8ffd8 button.colab-df-convert');\n",
              "        buttonEl.style.display =\n",
              "          google.colab.kernel.accessAllowed ? 'block' : 'none';\n",
              "\n",
              "        async function convertToInteractive(key) {\n",
              "          const element = document.querySelector('#df-3d039c34-9de5-41fa-b9f7-029936f8ffd8');\n",
              "          const dataTable =\n",
              "            await google.colab.kernel.invokeFunction('convertToInteractive',\n",
              "                                                     [key], {});\n",
              "          if (!dataTable) return;\n",
              "\n",
              "          const docLinkHtml = 'Like what you see? Visit the ' +\n",
              "            '<a target=\"_blank\" href=https://colab.research.google.com/notebooks/data_table.ipynb>data table notebook</a>'\n",
              "            + ' to learn more about interactive tables.';\n",
              "          element.innerHTML = '';\n",
              "          dataTable['output_type'] = 'display_data';\n",
              "          await google.colab.output.renderOutput(dataTable, element);\n",
              "          const docLink = document.createElement('div');\n",
              "          docLink.innerHTML = docLinkHtml;\n",
              "          element.appendChild(docLink);\n",
              "        }\n",
              "      </script>\n",
              "    </div>\n",
              "  </div>\n",
              "  "
            ]
          },
          "metadata": {},
          "execution_count": 74
        }
      ],
      "source": [
        "X_train_normal.head()"
      ]
    },
    {
      "cell_type": "code",
      "execution_count": 75,
      "metadata": {
        "colab": {
          "base_uri": "https://localhost:8080/",
          "height": 270
        },
        "id": "aoXUDLnYJblo",
        "outputId": "fbe80261-144a-48b4-ddfd-48a479e949c7"
      },
      "outputs": [
        {
          "output_type": "execute_result",
          "data": {
            "text/plain": [
              "      Idoso  Dependentes  Meses_Contrato  Internet  Fatura_Online  \\\n",
              "6744      0            0        0.083333         0              0   \n",
              "2840      0            0        0.888889         1              1   \n",
              "6629      0            1        0.708333         1              1   \n",
              "2593      0            0        0.958333         1              0   \n",
              "6858      0            0        0.041667         1              0   \n",
              "\n",
              "      Gasto_Mensal  Gasto_Total  Parceiro  Mensal  Bianual  Cartao_credito  \\\n",
              "6744      0.068227     0.017552         1       0        0               0   \n",
              "2840      0.804283     0.733553         1       0        1               0   \n",
              "6629      0.716135     0.523425         1       0        0               0   \n",
              "2593      0.805777     0.791199         1       0        1               0   \n",
              "6858      0.068227     0.007028         0       1        0               0   \n",
              "\n",
              "      Boleto_eletronico  Boleto_correios  Transf_banco  Anual  \n",
              "6744                  0                1             0      1  \n",
              "2840                  0                0             1      0  \n",
              "6629                  1                0             0      1  \n",
              "2593                  0                0             1      0  \n",
              "6858                  1                0             0      0  "
            ],
            "text/html": [
              "\n",
              "  <div id=\"df-94497f20-7809-4c3f-bce8-f2a1f266e60f\">\n",
              "    <div class=\"colab-df-container\">\n",
              "      <div>\n",
              "<style scoped>\n",
              "    .dataframe tbody tr th:only-of-type {\n",
              "        vertical-align: middle;\n",
              "    }\n",
              "\n",
              "    .dataframe tbody tr th {\n",
              "        vertical-align: top;\n",
              "    }\n",
              "\n",
              "    .dataframe thead th {\n",
              "        text-align: right;\n",
              "    }\n",
              "</style>\n",
              "<table border=\"1\" class=\"dataframe\">\n",
              "  <thead>\n",
              "    <tr style=\"text-align: right;\">\n",
              "      <th></th>\n",
              "      <th>Idoso</th>\n",
              "      <th>Dependentes</th>\n",
              "      <th>Meses_Contrato</th>\n",
              "      <th>Internet</th>\n",
              "      <th>Fatura_Online</th>\n",
              "      <th>Gasto_Mensal</th>\n",
              "      <th>Gasto_Total</th>\n",
              "      <th>Parceiro</th>\n",
              "      <th>Mensal</th>\n",
              "      <th>Bianual</th>\n",
              "      <th>Cartao_credito</th>\n",
              "      <th>Boleto_eletronico</th>\n",
              "      <th>Boleto_correios</th>\n",
              "      <th>Transf_banco</th>\n",
              "      <th>Anual</th>\n",
              "    </tr>\n",
              "  </thead>\n",
              "  <tbody>\n",
              "    <tr>\n",
              "      <th>6744</th>\n",
              "      <td>0</td>\n",
              "      <td>0</td>\n",
              "      <td>0.083333</td>\n",
              "      <td>0</td>\n",
              "      <td>0</td>\n",
              "      <td>0.068227</td>\n",
              "      <td>0.017552</td>\n",
              "      <td>1</td>\n",
              "      <td>0</td>\n",
              "      <td>0</td>\n",
              "      <td>0</td>\n",
              "      <td>0</td>\n",
              "      <td>1</td>\n",
              "      <td>0</td>\n",
              "      <td>1</td>\n",
              "    </tr>\n",
              "    <tr>\n",
              "      <th>2840</th>\n",
              "      <td>0</td>\n",
              "      <td>0</td>\n",
              "      <td>0.888889</td>\n",
              "      <td>1</td>\n",
              "      <td>1</td>\n",
              "      <td>0.804283</td>\n",
              "      <td>0.733553</td>\n",
              "      <td>1</td>\n",
              "      <td>0</td>\n",
              "      <td>1</td>\n",
              "      <td>0</td>\n",
              "      <td>0</td>\n",
              "      <td>0</td>\n",
              "      <td>1</td>\n",
              "      <td>0</td>\n",
              "    </tr>\n",
              "    <tr>\n",
              "      <th>6629</th>\n",
              "      <td>0</td>\n",
              "      <td>1</td>\n",
              "      <td>0.708333</td>\n",
              "      <td>1</td>\n",
              "      <td>1</td>\n",
              "      <td>0.716135</td>\n",
              "      <td>0.523425</td>\n",
              "      <td>1</td>\n",
              "      <td>0</td>\n",
              "      <td>0</td>\n",
              "      <td>0</td>\n",
              "      <td>1</td>\n",
              "      <td>0</td>\n",
              "      <td>0</td>\n",
              "      <td>1</td>\n",
              "    </tr>\n",
              "    <tr>\n",
              "      <th>2593</th>\n",
              "      <td>0</td>\n",
              "      <td>0</td>\n",
              "      <td>0.958333</td>\n",
              "      <td>1</td>\n",
              "      <td>0</td>\n",
              "      <td>0.805777</td>\n",
              "      <td>0.791199</td>\n",
              "      <td>1</td>\n",
              "      <td>0</td>\n",
              "      <td>1</td>\n",
              "      <td>0</td>\n",
              "      <td>0</td>\n",
              "      <td>0</td>\n",
              "      <td>1</td>\n",
              "      <td>0</td>\n",
              "    </tr>\n",
              "    <tr>\n",
              "      <th>6858</th>\n",
              "      <td>0</td>\n",
              "      <td>0</td>\n",
              "      <td>0.041667</td>\n",
              "      <td>1</td>\n",
              "      <td>0</td>\n",
              "      <td>0.068227</td>\n",
              "      <td>0.007028</td>\n",
              "      <td>0</td>\n",
              "      <td>1</td>\n",
              "      <td>0</td>\n",
              "      <td>0</td>\n",
              "      <td>1</td>\n",
              "      <td>0</td>\n",
              "      <td>0</td>\n",
              "      <td>0</td>\n",
              "    </tr>\n",
              "  </tbody>\n",
              "</table>\n",
              "</div>\n",
              "      <button class=\"colab-df-convert\" onclick=\"convertToInteractive('df-94497f20-7809-4c3f-bce8-f2a1f266e60f')\"\n",
              "              title=\"Convert this dataframe to an interactive table.\"\n",
              "              style=\"display:none;\">\n",
              "        \n",
              "  <svg xmlns=\"http://www.w3.org/2000/svg\" height=\"24px\"viewBox=\"0 0 24 24\"\n",
              "       width=\"24px\">\n",
              "    <path d=\"M0 0h24v24H0V0z\" fill=\"none\"/>\n",
              "    <path d=\"M18.56 5.44l.94 2.06.94-2.06 2.06-.94-2.06-.94-.94-2.06-.94 2.06-2.06.94zm-11 1L8.5 8.5l.94-2.06 2.06-.94-2.06-.94L8.5 2.5l-.94 2.06-2.06.94zm10 10l.94 2.06.94-2.06 2.06-.94-2.06-.94-.94-2.06-.94 2.06-2.06.94z\"/><path d=\"M17.41 7.96l-1.37-1.37c-.4-.4-.92-.59-1.43-.59-.52 0-1.04.2-1.43.59L10.3 9.45l-7.72 7.72c-.78.78-.78 2.05 0 2.83L4 21.41c.39.39.9.59 1.41.59.51 0 1.02-.2 1.41-.59l7.78-7.78 2.81-2.81c.8-.78.8-2.07 0-2.86zM5.41 20L4 18.59l7.72-7.72 1.47 1.35L5.41 20z\"/>\n",
              "  </svg>\n",
              "      </button>\n",
              "      \n",
              "  <style>\n",
              "    .colab-df-container {\n",
              "      display:flex;\n",
              "      flex-wrap:wrap;\n",
              "      gap: 12px;\n",
              "    }\n",
              "\n",
              "    .colab-df-convert {\n",
              "      background-color: #E8F0FE;\n",
              "      border: none;\n",
              "      border-radius: 50%;\n",
              "      cursor: pointer;\n",
              "      display: none;\n",
              "      fill: #1967D2;\n",
              "      height: 32px;\n",
              "      padding: 0 0 0 0;\n",
              "      width: 32px;\n",
              "    }\n",
              "\n",
              "    .colab-df-convert:hover {\n",
              "      background-color: #E2EBFA;\n",
              "      box-shadow: 0px 1px 2px rgba(60, 64, 67, 0.3), 0px 1px 3px 1px rgba(60, 64, 67, 0.15);\n",
              "      fill: #174EA6;\n",
              "    }\n",
              "\n",
              "    [theme=dark] .colab-df-convert {\n",
              "      background-color: #3B4455;\n",
              "      fill: #D2E3FC;\n",
              "    }\n",
              "\n",
              "    [theme=dark] .colab-df-convert:hover {\n",
              "      background-color: #434B5C;\n",
              "      box-shadow: 0px 1px 3px 1px rgba(0, 0, 0, 0.15);\n",
              "      filter: drop-shadow(0px 1px 2px rgba(0, 0, 0, 0.3));\n",
              "      fill: #FFFFFF;\n",
              "    }\n",
              "  </style>\n",
              "\n",
              "      <script>\n",
              "        const buttonEl =\n",
              "          document.querySelector('#df-94497f20-7809-4c3f-bce8-f2a1f266e60f button.colab-df-convert');\n",
              "        buttonEl.style.display =\n",
              "          google.colab.kernel.accessAllowed ? 'block' : 'none';\n",
              "\n",
              "        async function convertToInteractive(key) {\n",
              "          const element = document.querySelector('#df-94497f20-7809-4c3f-bce8-f2a1f266e60f');\n",
              "          const dataTable =\n",
              "            await google.colab.kernel.invokeFunction('convertToInteractive',\n",
              "                                                     [key], {});\n",
              "          if (!dataTable) return;\n",
              "\n",
              "          const docLinkHtml = 'Like what you see? Visit the ' +\n",
              "            '<a target=\"_blank\" href=https://colab.research.google.com/notebooks/data_table.ipynb>data table notebook</a>'\n",
              "            + ' to learn more about interactive tables.';\n",
              "          element.innerHTML = '';\n",
              "          dataTable['output_type'] = 'display_data';\n",
              "          await google.colab.output.renderOutput(dataTable, element);\n",
              "          const docLink = document.createElement('div');\n",
              "          docLink.innerHTML = docLinkHtml;\n",
              "          element.appendChild(docLink);\n",
              "        }\n",
              "      </script>\n",
              "    </div>\n",
              "  </div>\n",
              "  "
            ]
          },
          "metadata": {},
          "execution_count": 75
        }
      ],
      "source": [
        "X_test_normal.head()"
      ]
    },
    {
      "cell_type": "markdown",
      "metadata": {
        "id": "opJDIcQf-kfS"
      },
      "source": [
        "### Undersampling"
      ]
    },
    {
      "cell_type": "markdown",
      "metadata": {
        "id": "61d1GvJr-kfT"
      },
      "source": [
        "<p style='font-size: 16px; line-height: 2; margin: 10px 50px; text-align: justify;'>Para a técnica de Undersampling, utilizaremos o método NearMiss, que considera a menor distância média entre K-vizinhos mais próximos.</p>"
      ]
    },
    {
      "cell_type": "code",
      "execution_count": 76,
      "metadata": {
        "id": "tXdWubMsJblp"
      },
      "outputs": [],
      "source": [
        "X_train_normal_nm = X_train_normal.copy()\n",
        "X_test_normal_nm = X_test_normal.copy()\n",
        "y_train_nm = y_train.copy()\n",
        "y_test_nm = y_test.copy()"
      ]
    },
    {
      "cell_type": "code",
      "execution_count": 77,
      "metadata": {
        "id": "Kt12XuCu-kfT"
      },
      "outputs": [],
      "source": [
        "nm = NearMiss(version = 2)\n",
        "X_nm_train, y_nm_train = nm.fit_resample(X_train_normal_nm, y_train_nm)"
      ]
    },
    {
      "cell_type": "code",
      "execution_count": 78,
      "metadata": {
        "id": "GiPurBxuJblp"
      },
      "outputs": [],
      "source": [
        "nm = NearMiss(version = 2)\n",
        "X_nm_test, y_nm_test = nm.fit_resample(X_test_normal_nm, y_test_nm)"
      ]
    },
    {
      "cell_type": "code",
      "execution_count": 79,
      "metadata": {
        "colab": {
          "base_uri": "https://localhost:8080/"
        },
        "id": "KSgbUHuC-kfU",
        "outputId": "27d7f23a-463b-4208-daee-6c5d0f02047f"
      },
      "outputs": [
        {
          "output_type": "stream",
          "name": "stdout",
          "text": [
            "Número de dados de treino pré-balanceamento: (5634,)\n",
            "Número de dados de treino pós-balanceamento: (3028,)\n",
            "Número de dados de teste pré-balanceamento: (1409,)\n",
            "Número de dados de teste pós-balanceamento: (710,)\n"
          ]
        }
      ],
      "source": [
        "print(f'Número de dados de treino pré-balanceamento: {y_train.shape}')\n",
        "print(f'Número de dados de treino pós-balanceamento: {y_nm_train.shape}')\n",
        "print(f'Número de dados de teste pré-balanceamento: {y_test.shape}')\n",
        "print(f'Número de dados de teste pós-balanceamento: {y_nm_test.shape}')"
      ]
    },
    {
      "cell_type": "code",
      "execution_count": 80,
      "metadata": {
        "colab": {
          "base_uri": "https://localhost:8080/"
        },
        "id": "j5yac45f-kfU",
        "outputId": "4370c342-6b1b-4e30-85d9-0de5a7e439b0"
      },
      "outputs": [
        {
          "output_type": "execute_result",
          "data": {
            "text/plain": [
              "0    50.0\n",
              "1    50.0\n",
              "Name: Churn, dtype: float64"
            ]
          },
          "metadata": {},
          "execution_count": 80
        }
      ],
      "source": [
        "nova_proporcao_churn = round(y_nm_train.value_counts(normalize = True)*100, 2)\n",
        "nova_proporcao_churn"
      ]
    },
    {
      "cell_type": "markdown",
      "metadata": {
        "id": "zQTQsz4D-kfU"
      },
      "source": [
        "### Oversampling"
      ]
    },
    {
      "cell_type": "markdown",
      "metadata": {
        "id": "6akd9DhO-kfV"
      },
      "source": [
        "<p style='font-size: 16px; line-height: 2; margin: 10px 50px; text-align: justify;'>Para a técnica de Oversampling, utilizaremos o método SMOTE, que cria dados sintéticos para a classe de menor quantidade proporcional de dados.</p>"
      ]
    },
    {
      "cell_type": "code",
      "execution_count": 81,
      "metadata": {
        "id": "jJGm2G3cJblp"
      },
      "outputs": [],
      "source": [
        "X_train_normal_sm = X_train_normal.copy()\n",
        "X_test_normal_sm = X_test_normal.copy()\n",
        "y_train_sm = y_train.copy()\n",
        "y_test_sm = y_test.copy()"
      ]
    },
    {
      "cell_type": "code",
      "execution_count": 82,
      "metadata": {
        "id": "cfLLuTZMJblp"
      },
      "outputs": [],
      "source": [
        "sm = SMOTE(random_state = 53, k_neighbors = 5)\n",
        "X_sm_train, y_sm_train = sm.fit_resample(X_train_normal_sm, y_train_sm)"
      ]
    },
    {
      "cell_type": "code",
      "execution_count": 83,
      "metadata": {
        "id": "ZkW-_lGt-kfW"
      },
      "outputs": [],
      "source": [
        "sm = SMOTE(random_state = 53, k_neighbors = 5)\n",
        "X_sm_test, y_sm_test = sm.fit_resample(X_test_normal_sm, y_test_sm)"
      ]
    },
    {
      "cell_type": "code",
      "execution_count": 84,
      "metadata": {
        "colab": {
          "base_uri": "https://localhost:8080/"
        },
        "id": "AEleAKE6-kfW",
        "outputId": "901dc7fa-4785-42f1-daab-421b69c4f59e"
      },
      "outputs": [
        {
          "output_type": "stream",
          "name": "stdout",
          "text": [
            "Número de dados de treino pré-balanceamento: (5634,)\n",
            "Número de dados de treino pós-balanceamento: (8240,)\n",
            "Número de dados de teste pré-balanceamento: (1409,)\n",
            "Número de dados de teste pós-balanceamento: (2108,)\n"
          ]
        }
      ],
      "source": [
        "print(f'Número de dados de treino pré-balanceamento: {y_train.shape}')\n",
        "print(f'Número de dados de treino pós-balanceamento: {y_sm_train.shape}')\n",
        "print(f'Número de dados de teste pré-balanceamento: {y_test.shape}')\n",
        "print(f'Número de dados de teste pós-balanceamento: {y_sm_test.shape}')"
      ]
    },
    {
      "cell_type": "code",
      "execution_count": 85,
      "metadata": {
        "colab": {
          "base_uri": "https://localhost:8080/"
        },
        "id": "pK5y0j2p-kfW",
        "outputId": "55e1ef12-863c-4880-92bb-02484e74e612"
      },
      "outputs": [
        {
          "output_type": "execute_result",
          "data": {
            "text/plain": [
              "0    50.0\n",
              "1    50.0\n",
              "Name: Churn, dtype: float64"
            ]
          },
          "metadata": {},
          "execution_count": 85
        }
      ],
      "source": [
        "nova_proporcao_churn = round(y_sm_train.value_counts(normalize = True)*100, 2)\n",
        "nova_proporcao_churn"
      ]
    },
    {
      "cell_type": "markdown",
      "metadata": {
        "id": "yMYFLCgO-kfX"
      },
      "source": [
        "## Criando modelos de Machine Learning para predizer o Churn"
      ]
    },
    {
      "cell_type": "markdown",
      "metadata": {
        "id": "WiUTrHOC-kfX"
      },
      "source": [
        "<p style='font-size: 16px; line-height: 2; margin: 10px 50px; text-align: justify;'>Estamos aptos, neste momento, a criar nossos modelos preditivos baseados nas features previamente selecionadas e nas variáveis balanceadas. Optamos por utilizar os principais modelos de machine learning de classificação: Logistic Regression, Random Forest Classifier, Decision Tree Classifier, Gradient Boosting Classifier e Support Vector Classifier. Antes, porém, iremos iniciar com o modelo comparador DummyClassifier baseado no dataframe pré-balanceamento. Obs.: Nossas features foram previamente classificadas numericamente em 0 e 1 (para as variáveis originalmente categóricas do nosso dataset). Desta forma, não será necessário utilizarmos Enconding no dataframe.</p>"
      ]
    },
    {
      "cell_type": "code",
      "execution_count": 86,
      "metadata": {
        "id": "F39uVmLpJblq"
      },
      "outputs": [],
      "source": [
        "modelos = {'Logistic Regression': LogisticRegression(random_state = 53, max_iter = 200, solver = 'lbfgs'), \n",
        "           'Random Forest Classifier': RandomForestClassifier(random_state = 53, max_depth = 15, n_estimators = 100),\n",
        "           'Decision Tree Classifier': DecisionTreeClassifier(random_state = 53, max_depth = 6, criterion = 'gini'),\n",
        "           'Gradient Boosting Classifier': GradientBoostingClassifier(n_estimators = 100, max_depth = 3, min_samples_split = 2,\n",
        "                                                              learning_rate = 0.1, random_state = 53),\n",
        "           'Support Vector Classifier': svm.SVC(kernel = 'rbf', random_state = 53)}"
      ]
    },
    {
      "cell_type": "markdown",
      "metadata": {
        "id": "W-ub6l_U-kfY"
      },
      "source": [
        "### DummyClassifier"
      ]
    },
    {
      "cell_type": "code",
      "execution_count": 87,
      "metadata": {
        "id": "NX6JzeAW-kfZ"
      },
      "outputs": [],
      "source": [
        "modelo_dummy = DummyClassifier(strategy = 'stratified', random_state = 53)"
      ]
    },
    {
      "cell_type": "code",
      "execution_count": 88,
      "metadata": {
        "id": "Hf8OifWz-kfZ"
      },
      "outputs": [],
      "source": [
        "modelo_dummy = modelo_dummy.fit(X_train_normal, y_train)"
      ]
    },
    {
      "cell_type": "code",
      "execution_count": 89,
      "metadata": {
        "id": "-9kMpVFIRRIw"
      },
      "outputs": [],
      "source": [
        "y_pred_dummy = modelo_dummy.predict(X_test_normal)"
      ]
    },
    {
      "cell_type": "code",
      "execution_count": 90,
      "metadata": {
        "id": "WjP-Gqpich9N"
      },
      "outputs": [],
      "source": [
        "y_test_dummy = y_test"
      ]
    },
    {
      "cell_type": "markdown",
      "metadata": {
        "id": "b9gh7B5P-kfZ"
      },
      "source": [
        "### Undersampling"
      ]
    },
    {
      "cell_type": "code",
      "execution_count": 91,
      "metadata": {
        "id": "MdWlVKCGJblq"
      },
      "outputs": [],
      "source": [
        "y_pred_nm = {}\n",
        "y_teste_nm ={}\n",
        "\n",
        "for nome, modelo in modelos.items():\n",
        "    modelo.fit(X_nm_train, y_nm_train)\n",
        "    y_pred_nm[nome] = modelo.predict(X_nm_test)\n",
        "    y_teste_nm[nome] = y_nm_test"
      ]
    },
    {
      "cell_type": "markdown",
      "metadata": {
        "id": "GUmltKcG-kfg"
      },
      "source": [
        "### Oversampling"
      ]
    },
    {
      "cell_type": "code",
      "execution_count": 92,
      "metadata": {
        "id": "03BLZgs7Jblr"
      },
      "outputs": [],
      "source": [
        "y_pred_sm = {}\n",
        "y_teste_sm ={}\n",
        "\n",
        "for nome, modelo in modelos.items():\n",
        "    modelo.fit(X_sm_train, y_sm_train)\n",
        "    y_pred_sm[nome] = modelo.predict(X_sm_test)\n",
        "    y_teste_sm[nome] = y_sm_test"
      ]
    },
    {
      "cell_type": "markdown",
      "metadata": {
        "id": "UPECEF2H-kfr"
      },
      "source": [
        "## Avaliando os modelos criados"
      ]
    },
    {
      "cell_type": "markdown",
      "metadata": {
        "id": "Ve5UDhAt-kfr"
      },
      "source": [
        "<p style='font-size: 16px; line-height: 2; margin: 10px 50px; text-align: justify;'>Uma vez que nossos modelos estejam instanciados e treinados, podemos partir para a avaliação dos mesmos. Para tanto, nos valeremos do método classification_report da biblioteca sklearn, a qual disponibiliza algumas métricas importantes como a Precisão (do total de usuários que o modelo previu como positivos, quantos realmente eram positivos), Revocação (do total de usuários que realmente eram positivos, quantos o modelo previu como positivos) e f1-score (média harmônica enter a Precisão e a Revocação). Primeiramente, iremos avaliar nosso modelo comparador DummyClassifier pré-balanceamento:</p>"
      ]
    },
    {
      "cell_type": "markdown",
      "metadata": {
        "id": "gL6QyeeftPJH"
      },
      "source": [
        "### DummyClassifier"
      ]
    },
    {
      "cell_type": "code",
      "execution_count": 93,
      "metadata": {
        "colab": {
          "base_uri": "https://localhost:8080/"
        },
        "id": "wdzbuRgxtY_y",
        "outputId": "768dc1c5-3685-4094-8e81-78fa11edec9a"
      },
      "outputs": [
        {
          "output_type": "stream",
          "name": "stdout",
          "text": [
            "              precision    recall  f1-score   support\n",
            "\n",
            "           0       0.75      0.76      0.75      1054\n",
            "           1       0.25      0.25      0.25       355\n",
            "\n",
            "    accuracy                           0.63      1409\n",
            "   macro avg       0.50      0.50      0.50      1409\n",
            "weighted avg       0.62      0.63      0.63      1409\n",
            "\n"
          ]
        }
      ],
      "source": [
        "DummyClassifier = classification_report(y_test_dummy, y_pred_dummy)\n",
        "print(DummyClassifier)"
      ]
    },
    {
      "cell_type": "markdown",
      "metadata": {
        "id": "s2XNRMlnJblr"
      },
      "source": [
        "<p style='font-size: 16px; line-height: 2; margin: 10px 50px; text-align: justify;'>Aqui, podemos perceber claramente a necessidade de balanceamento dos dados: a acurácia do modelo Dummy Classifier foi de 0.63, porém analisando especificamente as métricas relativas ao Churn 'Sim' (ou 1), verificamos que há um claro enviesamento do modelo em favor do valor 'Não', indo ao encontro da proporção anteriormente calculada.</p>"
      ]
    },
    {
      "cell_type": "markdown",
      "metadata": {
        "id": "mcdRwUn-Jblr"
      },
      "source": [
        "### Undersampling"
      ]
    },
    {
      "cell_type": "code",
      "execution_count": 94,
      "metadata": {
        "colab": {
          "base_uri": "https://localhost:8080/"
        },
        "id": "n2Cb1sB_Jblr",
        "outputId": "4a9d1ff0-3668-4f55-ef49-113f6aea1c2a"
      },
      "outputs": [
        {
          "output_type": "stream",
          "name": "stdout",
          "text": [
            "Logistic Regression:\n",
            "\n",
            "              precision    recall  f1-score   support\n",
            "\n",
            "           0       0.75      0.76      0.75       355\n",
            "           1       0.75      0.74      0.75       355\n",
            "\n",
            "    accuracy                           0.75       710\n",
            "   macro avg       0.75      0.75      0.75       710\n",
            "weighted avg       0.75      0.75      0.75       710\n",
            "\n",
            "\n",
            "\n",
            "Random Forest Classifier:\n",
            "\n",
            "              precision    recall  f1-score   support\n",
            "\n",
            "           0       0.74      0.78      0.76       355\n",
            "           1       0.77      0.73      0.75       355\n",
            "\n",
            "    accuracy                           0.75       710\n",
            "   macro avg       0.76      0.75      0.75       710\n",
            "weighted avg       0.76      0.75      0.75       710\n",
            "\n",
            "\n",
            "\n",
            "Decision Tree Classifier:\n",
            "\n",
            "              precision    recall  f1-score   support\n",
            "\n",
            "           0       0.73      0.81      0.77       355\n",
            "           1       0.79      0.70      0.74       355\n",
            "\n",
            "    accuracy                           0.76       710\n",
            "   macro avg       0.76      0.76      0.76       710\n",
            "weighted avg       0.76      0.76      0.76       710\n",
            "\n",
            "\n",
            "\n",
            "Gradient Boosting Classifier:\n",
            "\n",
            "              precision    recall  f1-score   support\n",
            "\n",
            "           0       0.75      0.79      0.77       355\n",
            "           1       0.78      0.73      0.75       355\n",
            "\n",
            "    accuracy                           0.76       710\n",
            "   macro avg       0.76      0.76      0.76       710\n",
            "weighted avg       0.76      0.76      0.76       710\n",
            "\n",
            "\n",
            "\n",
            "Support Vector Classifier:\n",
            "\n",
            "              precision    recall  f1-score   support\n",
            "\n",
            "           0       0.77      0.74      0.76       355\n",
            "           1       0.75      0.78      0.76       355\n",
            "\n",
            "    accuracy                           0.76       710\n",
            "   macro avg       0.76      0.76      0.76       710\n",
            "weighted avg       0.76      0.76      0.76       710\n",
            "\n",
            "\n",
            "\n"
          ]
        }
      ],
      "source": [
        "for nome, y_pred in y_pred_nm.items():\n",
        "    print(f'{nome}:\\n')\n",
        "    for nome_nm, y_teste in y_teste_nm.items():\n",
        "        if nome == nome_nm:\n",
        "            print(classification_report(y_teste, y_pred))\n",
        "    print('\\n')"
      ]
    },
    {
      "cell_type": "markdown",
      "metadata": {
        "id": "occ_QrnJJblr"
      },
      "source": [
        "### Oversampling"
      ]
    },
    {
      "cell_type": "code",
      "execution_count": 95,
      "metadata": {
        "colab": {
          "base_uri": "https://localhost:8080/"
        },
        "id": "Al13s-IYJblr",
        "outputId": "17440288-8567-448d-e25f-5b1ab2e832b9"
      },
      "outputs": [
        {
          "output_type": "stream",
          "name": "stdout",
          "text": [
            "Logistic Regression:\n",
            "\n",
            "              precision    recall  f1-score   support\n",
            "\n",
            "           0       0.82      0.74      0.78      1054\n",
            "           1       0.77      0.84      0.80      1054\n",
            "\n",
            "    accuracy                           0.79      2108\n",
            "   macro avg       0.79      0.79      0.79      2108\n",
            "weighted avg       0.79      0.79      0.79      2108\n",
            "\n",
            "\n",
            "\n",
            "Random Forest Classifier:\n",
            "\n",
            "              precision    recall  f1-score   support\n",
            "\n",
            "           0       0.74      0.78      0.76      1054\n",
            "           1       0.77      0.73      0.75      1054\n",
            "\n",
            "    accuracy                           0.76      2108\n",
            "   macro avg       0.76      0.76      0.76      2108\n",
            "weighted avg       0.76      0.76      0.76      2108\n",
            "\n",
            "\n",
            "\n",
            "Decision Tree Classifier:\n",
            "\n",
            "              precision    recall  f1-score   support\n",
            "\n",
            "           0       0.78      0.75      0.77      1054\n",
            "           1       0.76      0.79      0.78      1054\n",
            "\n",
            "    accuracy                           0.77      2108\n",
            "   macro avg       0.77      0.77      0.77      2108\n",
            "weighted avg       0.77      0.77      0.77      2108\n",
            "\n",
            "\n",
            "\n",
            "Gradient Boosting Classifier:\n",
            "\n",
            "              precision    recall  f1-score   support\n",
            "\n",
            "           0       0.83      0.77      0.80      1054\n",
            "           1       0.79      0.84      0.81      1054\n",
            "\n",
            "    accuracy                           0.81      2108\n",
            "   macro avg       0.81      0.81      0.81      2108\n",
            "weighted avg       0.81      0.81      0.81      2108\n",
            "\n",
            "\n",
            "\n",
            "Support Vector Classifier:\n",
            "\n",
            "              precision    recall  f1-score   support\n",
            "\n",
            "           0       0.80      0.72      0.76      1054\n",
            "           1       0.75      0.82      0.78      1054\n",
            "\n",
            "    accuracy                           0.77      2108\n",
            "   macro avg       0.77      0.77      0.77      2108\n",
            "weighted avg       0.77      0.77      0.77      2108\n",
            "\n",
            "\n",
            "\n"
          ]
        }
      ],
      "source": [
        "for nome, y_pred in y_pred_sm.items():\n",
        "    print(f'{nome}:\\n')\n",
        "    for nome_sm, y_teste in y_teste_sm.items():\n",
        "        if nome == nome_sm:\n",
        "            print(classification_report(y_teste, y_pred))\n",
        "    print('\\n')"
      ]
    },
    {
      "cell_type": "markdown",
      "metadata": {
        "id": "vpyUY1b5Jblr"
      },
      "source": [
        "## Escolhendo o melhor modelo e o tipo de balanceamento mais adequado"
      ]
    },
    {
      "cell_type": "markdown",
      "metadata": {
        "id": "tE7o2Uq3Jblr"
      },
      "source": [
        "<p style='font-size: 16px; line-height: 2; margin: 10px 50px; text-align: justify;'>Para nosso problema principal de redução da taxa de churn dos clientes da Alura Voz, queremos otimizar a identificação dos clientes com propensão a evadir do serviço, de modo a tentarmos estratégias comerciais de retenção dos mesmos na base. Sendo assim, diante dos resultados apresentados anteriormente, podemos perceber que o modelo Gradient Boosting Classifier, juntamente com a técnica oversampling, apresentou o melhor score integrado, seja de precisão, seja de revocação. Portanto, este será o modelo escolhido para o nosso dataset.</p>"
      ]
    },
    {
      "cell_type": "markdown",
      "metadata": {
        "id": "fGnAMZK9Jblr"
      },
      "source": [
        "## Otimizando o melhor modelo"
      ]
    },
    {
      "cell_type": "markdown",
      "metadata": {
        "id": "VSR9ArUJJbls"
      },
      "source": [
        "<p style='font-size: 16px; line-height: 2; margin: 10px 50px; text-align: justify;'>Podemos, ainda, tentar otimizar os hiperparâmetros do nosso modelo escolhido e avaliar a sua performance com os dados balanceados. Para isto, utilizaremos a biblioteca GridSearchCV, que realiza a validação cruzada para cada variação dos parâmetros escolhidos.</p>"
      ]
    },
    {
      "cell_type": "code",
      "execution_count": 96,
      "metadata": {
        "id": "zMkXlu-ZJbls"
      },
      "outputs": [],
      "source": [
        "modelo_escolhido = GradientBoostingClassifier()"
      ]
    },
    {
      "cell_type": "code",
      "execution_count": 97,
      "metadata": {
        "id": "bc951W2VJbls"
      },
      "outputs": [],
      "source": [
        "hiperparametros = {'n_estimators': [100, 300, 500, 600],\n",
        "                   'max_depth': [3, 4, 5, 6, 7],\n",
        "                   'min_samples_split': [2, 3, 4, 5],\n",
        "                   'learning_rate': [0.1, 1]}"
      ]
    },
    {
      "cell_type": "code",
      "execution_count": 98,
      "metadata": {
        "colab": {
          "base_uri": "https://localhost:8080/"
        },
        "id": "mtoUV1ocJbls",
        "outputId": "f7b9cabc-ad10-44d7-f28f-1bd0b1bd1ac5"
      },
      "outputs": [
        {
          "output_type": "stream",
          "name": "stdout",
          "text": [
            "Fitting 5 folds for each of 160 candidates, totalling 800 fits\n",
            "[CV 1/5] END learning_rate=0.1, max_depth=3, min_samples_split=2, n_estimators=100;, score=0.768 total time=   1.0s\n",
            "[CV 2/5] END learning_rate=0.1, max_depth=3, min_samples_split=2, n_estimators=100;, score=0.773 total time=   1.0s\n",
            "[CV 3/5] END learning_rate=0.1, max_depth=3, min_samples_split=2, n_estimators=100;, score=0.777 total time=   1.0s\n",
            "[CV 4/5] END learning_rate=0.1, max_depth=3, min_samples_split=2, n_estimators=100;, score=0.792 total time=   1.0s\n",
            "[CV 5/5] END learning_rate=0.1, max_depth=3, min_samples_split=2, n_estimators=100;, score=0.785 total time=   1.0s\n",
            "[CV 1/5] END learning_rate=0.1, max_depth=3, min_samples_split=2, n_estimators=300;, score=0.747 total time=   3.0s\n",
            "[CV 2/5] END learning_rate=0.1, max_depth=3, min_samples_split=2, n_estimators=300;, score=0.769 total time=   3.0s\n",
            "[CV 3/5] END learning_rate=0.1, max_depth=3, min_samples_split=2, n_estimators=300;, score=0.791 total time=   2.9s\n",
            "[CV 4/5] END learning_rate=0.1, max_depth=3, min_samples_split=2, n_estimators=300;, score=0.809 total time=   2.9s\n",
            "[CV 5/5] END learning_rate=0.1, max_depth=3, min_samples_split=2, n_estimators=300;, score=0.799 total time=   2.9s\n",
            "[CV 1/5] END learning_rate=0.1, max_depth=3, min_samples_split=2, n_estimators=500;, score=0.741 total time=   4.9s\n",
            "[CV 2/5] END learning_rate=0.1, max_depth=3, min_samples_split=2, n_estimators=500;, score=0.768 total time=   4.9s\n",
            "[CV 3/5] END learning_rate=0.1, max_depth=3, min_samples_split=2, n_estimators=500;, score=0.814 total time=   4.8s\n",
            "[CV 4/5] END learning_rate=0.1, max_depth=3, min_samples_split=2, n_estimators=500;, score=0.820 total time=   4.8s\n",
            "[CV 5/5] END learning_rate=0.1, max_depth=3, min_samples_split=2, n_estimators=500;, score=0.820 total time=   4.8s\n",
            "[CV 1/5] END learning_rate=0.1, max_depth=3, min_samples_split=2, n_estimators=600;, score=0.733 total time=   5.9s\n",
            "[CV 2/5] END learning_rate=0.1, max_depth=3, min_samples_split=2, n_estimators=600;, score=0.768 total time=   5.9s\n",
            "[CV 3/5] END learning_rate=0.1, max_depth=3, min_samples_split=2, n_estimators=600;, score=0.818 total time=   5.7s\n",
            "[CV 4/5] END learning_rate=0.1, max_depth=3, min_samples_split=2, n_estimators=600;, score=0.826 total time=   5.8s\n",
            "[CV 5/5] END learning_rate=0.1, max_depth=3, min_samples_split=2, n_estimators=600;, score=0.830 total time=   5.8s\n",
            "[CV 1/5] END learning_rate=0.1, max_depth=3, min_samples_split=3, n_estimators=100;, score=0.768 total time=   1.0s\n",
            "[CV 2/5] END learning_rate=0.1, max_depth=3, min_samples_split=3, n_estimators=100;, score=0.773 total time=   1.0s\n",
            "[CV 3/5] END learning_rate=0.1, max_depth=3, min_samples_split=3, n_estimators=100;, score=0.777 total time=   1.0s\n",
            "[CV 4/5] END learning_rate=0.1, max_depth=3, min_samples_split=3, n_estimators=100;, score=0.792 total time=   1.0s\n",
            "[CV 5/5] END learning_rate=0.1, max_depth=3, min_samples_split=3, n_estimators=100;, score=0.785 total time=   1.0s\n",
            "[CV 1/5] END learning_rate=0.1, max_depth=3, min_samples_split=3, n_estimators=300;, score=0.746 total time=   2.9s\n",
            "[CV 2/5] END learning_rate=0.1, max_depth=3, min_samples_split=3, n_estimators=300;, score=0.769 total time=   2.9s\n",
            "[CV 3/5] END learning_rate=0.1, max_depth=3, min_samples_split=3, n_estimators=300;, score=0.791 total time=   2.9s\n",
            "[CV 4/5] END learning_rate=0.1, max_depth=3, min_samples_split=3, n_estimators=300;, score=0.807 total time=   2.9s\n",
            "[CV 5/5] END learning_rate=0.1, max_depth=3, min_samples_split=3, n_estimators=300;, score=0.791 total time=   2.9s\n",
            "[CV 1/5] END learning_rate=0.1, max_depth=3, min_samples_split=3, n_estimators=500;, score=0.737 total time=   4.9s\n",
            "[CV 2/5] END learning_rate=0.1, max_depth=3, min_samples_split=3, n_estimators=500;, score=0.761 total time=   4.9s\n",
            "[CV 3/5] END learning_rate=0.1, max_depth=3, min_samples_split=3, n_estimators=500;, score=0.814 total time=   4.8s\n",
            "[CV 4/5] END learning_rate=0.1, max_depth=3, min_samples_split=3, n_estimators=500;, score=0.821 total time=   4.9s\n",
            "[CV 5/5] END learning_rate=0.1, max_depth=3, min_samples_split=3, n_estimators=500;, score=0.820 total time=   4.7s\n",
            "[CV 1/5] END learning_rate=0.1, max_depth=3, min_samples_split=3, n_estimators=600;, score=0.732 total time=   5.9s\n",
            "[CV 2/5] END learning_rate=0.1, max_depth=3, min_samples_split=3, n_estimators=600;, score=0.761 total time=   5.9s\n",
            "[CV 3/5] END learning_rate=0.1, max_depth=3, min_samples_split=3, n_estimators=600;, score=0.817 total time=   5.7s\n",
            "[CV 4/5] END learning_rate=0.1, max_depth=3, min_samples_split=3, n_estimators=600;, score=0.822 total time=   5.7s\n",
            "[CV 5/5] END learning_rate=0.1, max_depth=3, min_samples_split=3, n_estimators=600;, score=0.828 total time=   5.7s\n",
            "[CV 1/5] END learning_rate=0.1, max_depth=3, min_samples_split=4, n_estimators=100;, score=0.768 total time=   1.0s\n",
            "[CV 2/5] END learning_rate=0.1, max_depth=3, min_samples_split=4, n_estimators=100;, score=0.773 total time=   1.0s\n",
            "[CV 3/5] END learning_rate=0.1, max_depth=3, min_samples_split=4, n_estimators=100;, score=0.779 total time=   1.0s\n",
            "[CV 4/5] END learning_rate=0.1, max_depth=3, min_samples_split=4, n_estimators=100;, score=0.788 total time=   1.0s\n",
            "[CV 5/5] END learning_rate=0.1, max_depth=3, min_samples_split=4, n_estimators=100;, score=0.785 total time=   1.0s\n",
            "[CV 1/5] END learning_rate=0.1, max_depth=3, min_samples_split=4, n_estimators=300;, score=0.748 total time=   2.9s\n",
            "[CV 2/5] END learning_rate=0.1, max_depth=3, min_samples_split=4, n_estimators=300;, score=0.771 total time=   3.0s\n",
            "[CV 3/5] END learning_rate=0.1, max_depth=3, min_samples_split=4, n_estimators=300;, score=0.787 total time=   2.8s\n",
            "[CV 4/5] END learning_rate=0.1, max_depth=3, min_samples_split=4, n_estimators=300;, score=0.807 total time=   2.9s\n",
            "[CV 5/5] END learning_rate=0.1, max_depth=3, min_samples_split=4, n_estimators=300;, score=0.797 total time=   2.8s\n",
            "[CV 1/5] END learning_rate=0.1, max_depth=3, min_samples_split=4, n_estimators=500;, score=0.737 total time=   4.8s\n",
            "[CV 2/5] END learning_rate=0.1, max_depth=3, min_samples_split=4, n_estimators=500;, score=0.767 total time=   4.8s\n",
            "[CV 3/5] END learning_rate=0.1, max_depth=3, min_samples_split=4, n_estimators=500;, score=0.809 total time=   4.7s\n",
            "[CV 4/5] END learning_rate=0.1, max_depth=3, min_samples_split=4, n_estimators=500;, score=0.817 total time=   4.8s\n",
            "[CV 5/5] END learning_rate=0.1, max_depth=3, min_samples_split=4, n_estimators=500;, score=0.820 total time=   4.8s\n",
            "[CV 1/5] END learning_rate=0.1, max_depth=3, min_samples_split=4, n_estimators=600;, score=0.728 total time=   6.0s\n",
            "[CV 2/5] END learning_rate=0.1, max_depth=3, min_samples_split=4, n_estimators=600;, score=0.759 total time=   5.8s\n",
            "[CV 3/5] END learning_rate=0.1, max_depth=3, min_samples_split=4, n_estimators=600;, score=0.816 total time=   5.6s\n",
            "[CV 4/5] END learning_rate=0.1, max_depth=3, min_samples_split=4, n_estimators=600;, score=0.825 total time=   5.8s\n",
            "[CV 5/5] END learning_rate=0.1, max_depth=3, min_samples_split=4, n_estimators=600;, score=0.828 total time=   5.8s\n",
            "[CV 1/5] END learning_rate=0.1, max_depth=3, min_samples_split=5, n_estimators=100;, score=0.768 total time=   1.0s\n",
            "[CV 2/5] END learning_rate=0.1, max_depth=3, min_samples_split=5, n_estimators=100;, score=0.774 total time=   1.0s\n",
            "[CV 3/5] END learning_rate=0.1, max_depth=3, min_samples_split=5, n_estimators=100;, score=0.779 total time=   1.0s\n",
            "[CV 4/5] END learning_rate=0.1, max_depth=3, min_samples_split=5, n_estimators=100;, score=0.788 total time=   1.0s\n",
            "[CV 5/5] END learning_rate=0.1, max_depth=3, min_samples_split=5, n_estimators=100;, score=0.786 total time=   1.0s\n",
            "[CV 1/5] END learning_rate=0.1, max_depth=3, min_samples_split=5, n_estimators=300;, score=0.745 total time=   2.9s\n",
            "[CV 2/5] END learning_rate=0.1, max_depth=3, min_samples_split=5, n_estimators=300;, score=0.771 total time=   2.9s\n",
            "[CV 3/5] END learning_rate=0.1, max_depth=3, min_samples_split=5, n_estimators=300;, score=0.795 total time=   2.8s\n",
            "[CV 4/5] END learning_rate=0.1, max_depth=3, min_samples_split=5, n_estimators=300;, score=0.806 total time=   2.9s\n",
            "[CV 5/5] END learning_rate=0.1, max_depth=3, min_samples_split=5, n_estimators=300;, score=0.805 total time=   2.8s\n",
            "[CV 1/5] END learning_rate=0.1, max_depth=3, min_samples_split=5, n_estimators=500;, score=0.733 total time=   4.9s\n",
            "[CV 2/5] END learning_rate=0.1, max_depth=3, min_samples_split=5, n_estimators=500;, score=0.768 total time=   4.9s\n",
            "[CV 3/5] END learning_rate=0.1, max_depth=3, min_samples_split=5, n_estimators=500;, score=0.807 total time=   4.8s\n",
            "[CV 4/5] END learning_rate=0.1, max_depth=3, min_samples_split=5, n_estimators=500;, score=0.816 total time=   4.7s\n",
            "[CV 5/5] END learning_rate=0.1, max_depth=3, min_samples_split=5, n_estimators=500;, score=0.827 total time=   4.8s\n",
            "[CV 1/5] END learning_rate=0.1, max_depth=3, min_samples_split=5, n_estimators=600;, score=0.729 total time=   5.7s\n",
            "[CV 2/5] END learning_rate=0.1, max_depth=3, min_samples_split=5, n_estimators=600;, score=0.763 total time=   5.9s\n",
            "[CV 3/5] END learning_rate=0.1, max_depth=3, min_samples_split=5, n_estimators=600;, score=0.816 total time=   5.7s\n",
            "[CV 4/5] END learning_rate=0.1, max_depth=3, min_samples_split=5, n_estimators=600;, score=0.823 total time=   5.6s\n",
            "[CV 5/5] END learning_rate=0.1, max_depth=3, min_samples_split=5, n_estimators=600;, score=0.829 total time=   5.8s\n",
            "[CV 1/5] END learning_rate=0.1, max_depth=4, min_samples_split=2, n_estimators=100;, score=0.765 total time=   1.3s\n",
            "[CV 2/5] END learning_rate=0.1, max_depth=4, min_samples_split=2, n_estimators=100;, score=0.775 total time=   1.2s\n",
            "[CV 3/5] END learning_rate=0.1, max_depth=4, min_samples_split=2, n_estimators=100;, score=0.785 total time=   1.2s\n",
            "[CV 4/5] END learning_rate=0.1, max_depth=4, min_samples_split=2, n_estimators=100;, score=0.803 total time=   1.2s\n",
            "[CV 5/5] END learning_rate=0.1, max_depth=4, min_samples_split=2, n_estimators=100;, score=0.795 total time=   1.3s\n",
            "[CV 1/5] END learning_rate=0.1, max_depth=4, min_samples_split=2, n_estimators=300;, score=0.735 total time=   3.7s\n",
            "[CV 2/5] END learning_rate=0.1, max_depth=4, min_samples_split=2, n_estimators=300;, score=0.772 total time=   3.8s\n",
            "[CV 3/5] END learning_rate=0.1, max_depth=4, min_samples_split=2, n_estimators=300;, score=0.819 total time=   3.6s\n",
            "[CV 4/5] END learning_rate=0.1, max_depth=4, min_samples_split=2, n_estimators=300;, score=0.827 total time=   3.7s\n",
            "[CV 5/5] END learning_rate=0.1, max_depth=4, min_samples_split=2, n_estimators=300;, score=0.814 total time=   3.7s\n",
            "[CV 1/5] END learning_rate=0.1, max_depth=4, min_samples_split=2, n_estimators=500;, score=0.723 total time=   6.3s\n",
            "[CV 2/5] END learning_rate=0.1, max_depth=4, min_samples_split=2, n_estimators=500;, score=0.765 total time=   6.2s\n",
            "[CV 3/5] END learning_rate=0.1, max_depth=4, min_samples_split=2, n_estimators=500;, score=0.832 total time=   6.1s\n",
            "[CV 4/5] END learning_rate=0.1, max_depth=4, min_samples_split=2, n_estimators=500;, score=0.835 total time=   6.2s\n",
            "[CV 5/5] END learning_rate=0.1, max_depth=4, min_samples_split=2, n_estimators=500;, score=0.826 total time=   6.1s\n",
            "[CV 1/5] END learning_rate=0.1, max_depth=4, min_samples_split=2, n_estimators=600;, score=0.721 total time=   7.5s\n",
            "[CV 2/5] END learning_rate=0.1, max_depth=4, min_samples_split=2, n_estimators=600;, score=0.757 total time=   7.4s\n",
            "[CV 3/5] END learning_rate=0.1, max_depth=4, min_samples_split=2, n_estimators=600;, score=0.831 total time=   7.4s\n",
            "[CV 4/5] END learning_rate=0.1, max_depth=4, min_samples_split=2, n_estimators=600;, score=0.845 total time=   7.4s\n",
            "[CV 5/5] END learning_rate=0.1, max_depth=4, min_samples_split=2, n_estimators=600;, score=0.836 total time=   7.3s\n",
            "[CV 1/5] END learning_rate=0.1, max_depth=4, min_samples_split=3, n_estimators=100;, score=0.755 total time=   1.3s\n",
            "[CV 2/5] END learning_rate=0.1, max_depth=4, min_samples_split=3, n_estimators=100;, score=0.775 total time=   1.3s\n",
            "[CV 3/5] END learning_rate=0.1, max_depth=4, min_samples_split=3, n_estimators=100;, score=0.785 total time=   1.3s\n",
            "[CV 4/5] END learning_rate=0.1, max_depth=4, min_samples_split=3, n_estimators=100;, score=0.800 total time=   1.3s\n",
            "[CV 5/5] END learning_rate=0.1, max_depth=4, min_samples_split=3, n_estimators=100;, score=0.791 total time=   1.2s\n",
            "[CV 1/5] END learning_rate=0.1, max_depth=4, min_samples_split=3, n_estimators=300;, score=0.734 total time=   3.8s\n",
            "[CV 2/5] END learning_rate=0.1, max_depth=4, min_samples_split=3, n_estimators=300;, score=0.779 total time=   3.7s\n",
            "[CV 3/5] END learning_rate=0.1, max_depth=4, min_samples_split=3, n_estimators=300;, score=0.821 total time=   3.7s\n",
            "[CV 4/5] END learning_rate=0.1, max_depth=4, min_samples_split=3, n_estimators=300;, score=0.828 total time=   3.7s\n",
            "[CV 5/5] END learning_rate=0.1, max_depth=4, min_samples_split=3, n_estimators=300;, score=0.812 total time=   3.7s\n",
            "[CV 1/5] END learning_rate=0.1, max_depth=4, min_samples_split=3, n_estimators=500;, score=0.725 total time=   6.3s\n",
            "[CV 2/5] END learning_rate=0.1, max_depth=4, min_samples_split=3, n_estimators=500;, score=0.759 total time=   6.2s\n",
            "[CV 3/5] END learning_rate=0.1, max_depth=4, min_samples_split=3, n_estimators=500;, score=0.826 total time=   6.0s\n",
            "[CV 4/5] END learning_rate=0.1, max_depth=4, min_samples_split=3, n_estimators=500;, score=0.844 total time=   6.1s\n",
            "[CV 5/5] END learning_rate=0.1, max_depth=4, min_samples_split=3, n_estimators=500;, score=0.828 total time=   6.1s\n",
            "[CV 1/5] END learning_rate=0.1, max_depth=4, min_samples_split=3, n_estimators=600;, score=0.720 total time=   7.4s\n",
            "[CV 2/5] END learning_rate=0.1, max_depth=4, min_samples_split=3, n_estimators=600;, score=0.755 total time=   7.5s\n",
            "[CV 3/5] END learning_rate=0.1, max_depth=4, min_samples_split=3, n_estimators=600;, score=0.828 total time=   7.3s\n",
            "[CV 4/5] END learning_rate=0.1, max_depth=4, min_samples_split=3, n_estimators=600;, score=0.846 total time=   7.3s\n",
            "[CV 5/5] END learning_rate=0.1, max_depth=4, min_samples_split=3, n_estimators=600;, score=0.830 total time=   7.3s\n",
            "[CV 1/5] END learning_rate=0.1, max_depth=4, min_samples_split=4, n_estimators=100;, score=0.760 total time=   1.2s\n",
            "[CV 2/5] END learning_rate=0.1, max_depth=4, min_samples_split=4, n_estimators=100;, score=0.777 total time=   1.2s\n",
            "[CV 3/5] END learning_rate=0.1, max_depth=4, min_samples_split=4, n_estimators=100;, score=0.786 total time=   1.3s\n",
            "[CV 4/5] END learning_rate=0.1, max_depth=4, min_samples_split=4, n_estimators=100;, score=0.802 total time=   1.2s\n",
            "[CV 5/5] END learning_rate=0.1, max_depth=4, min_samples_split=4, n_estimators=100;, score=0.794 total time=   1.2s\n",
            "[CV 1/5] END learning_rate=0.1, max_depth=4, min_samples_split=4, n_estimators=300;, score=0.737 total time=   3.8s\n",
            "[CV 2/5] END learning_rate=0.1, max_depth=4, min_samples_split=4, n_estimators=300;, score=0.766 total time=   3.7s\n",
            "[CV 3/5] END learning_rate=0.1, max_depth=4, min_samples_split=4, n_estimators=300;, score=0.814 total time=   3.7s\n",
            "[CV 4/5] END learning_rate=0.1, max_depth=4, min_samples_split=4, n_estimators=300;, score=0.838 total time=   3.6s\n",
            "[CV 5/5] END learning_rate=0.1, max_depth=4, min_samples_split=4, n_estimators=300;, score=0.807 total time=   3.7s\n",
            "[CV 1/5] END learning_rate=0.1, max_depth=4, min_samples_split=4, n_estimators=500;, score=0.738 total time=   6.2s\n",
            "[CV 2/5] END learning_rate=0.1, max_depth=4, min_samples_split=4, n_estimators=500;, score=0.763 total time=   6.1s\n",
            "[CV 3/5] END learning_rate=0.1, max_depth=4, min_samples_split=4, n_estimators=500;, score=0.829 total time=   6.0s\n",
            "[CV 4/5] END learning_rate=0.1, max_depth=4, min_samples_split=4, n_estimators=500;, score=0.846 total time=   6.1s\n",
            "[CV 5/5] END learning_rate=0.1, max_depth=4, min_samples_split=4, n_estimators=500;, score=0.830 total time=   6.1s\n",
            "[CV 1/5] END learning_rate=0.1, max_depth=4, min_samples_split=4, n_estimators=600;, score=0.727 total time=   7.4s\n",
            "[CV 2/5] END learning_rate=0.1, max_depth=4, min_samples_split=4, n_estimators=600;, score=0.760 total time=   7.5s\n",
            "[CV 3/5] END learning_rate=0.1, max_depth=4, min_samples_split=4, n_estimators=600;, score=0.835 total time=   7.4s\n",
            "[CV 4/5] END learning_rate=0.1, max_depth=4, min_samples_split=4, n_estimators=600;, score=0.844 total time=   7.3s\n",
            "[CV 5/5] END learning_rate=0.1, max_depth=4, min_samples_split=4, n_estimators=600;, score=0.830 total time=   7.3s\n",
            "[CV 1/5] END learning_rate=0.1, max_depth=4, min_samples_split=5, n_estimators=100;, score=0.761 total time=   1.3s\n",
            "[CV 2/5] END learning_rate=0.1, max_depth=4, min_samples_split=5, n_estimators=100;, score=0.775 total time=   1.3s\n",
            "[CV 3/5] END learning_rate=0.1, max_depth=4, min_samples_split=5, n_estimators=100;, score=0.786 total time=   1.3s\n",
            "[CV 4/5] END learning_rate=0.1, max_depth=4, min_samples_split=5, n_estimators=100;, score=0.802 total time=   1.2s\n",
            "[CV 5/5] END learning_rate=0.1, max_depth=4, min_samples_split=5, n_estimators=100;, score=0.791 total time=   1.2s\n",
            "[CV 1/5] END learning_rate=0.1, max_depth=4, min_samples_split=5, n_estimators=300;, score=0.745 total time=   3.8s\n",
            "[CV 2/5] END learning_rate=0.1, max_depth=4, min_samples_split=5, n_estimators=300;, score=0.770 total time=   3.7s\n",
            "[CV 3/5] END learning_rate=0.1, max_depth=4, min_samples_split=5, n_estimators=300;, score=0.811 total time=   3.7s\n",
            "[CV 4/5] END learning_rate=0.1, max_depth=4, min_samples_split=5, n_estimators=300;, score=0.829 total time=   3.7s\n",
            "[CV 5/5] END learning_rate=0.1, max_depth=4, min_samples_split=5, n_estimators=300;, score=0.809 total time=   3.6s\n",
            "[CV 1/5] END learning_rate=0.1, max_depth=4, min_samples_split=5, n_estimators=500;, score=0.738 total time=   6.2s\n",
            "[CV 2/5] END learning_rate=0.1, max_depth=4, min_samples_split=5, n_estimators=500;, score=0.765 total time=   6.3s\n",
            "[CV 3/5] END learning_rate=0.1, max_depth=4, min_samples_split=5, n_estimators=500;, score=0.829 total time=   6.1s\n",
            "[CV 4/5] END learning_rate=0.1, max_depth=4, min_samples_split=5, n_estimators=500;, score=0.835 total time=   6.0s\n",
            "[CV 5/5] END learning_rate=0.1, max_depth=4, min_samples_split=5, n_estimators=500;, score=0.825 total time=   6.0s\n",
            "[CV 1/5] END learning_rate=0.1, max_depth=4, min_samples_split=5, n_estimators=600;, score=0.731 total time=   7.4s\n",
            "[CV 2/5] END learning_rate=0.1, max_depth=4, min_samples_split=5, n_estimators=600;, score=0.760 total time=   7.4s\n",
            "[CV 3/5] END learning_rate=0.1, max_depth=4, min_samples_split=5, n_estimators=600;, score=0.826 total time=   7.2s\n",
            "[CV 4/5] END learning_rate=0.1, max_depth=4, min_samples_split=5, n_estimators=600;, score=0.840 total time=   7.3s\n",
            "[CV 5/5] END learning_rate=0.1, max_depth=4, min_samples_split=5, n_estimators=600;, score=0.831 total time=   7.3s\n",
            "[CV 1/5] END learning_rate=0.1, max_depth=5, min_samples_split=2, n_estimators=100;, score=0.763 total time=   1.5s\n",
            "[CV 2/5] END learning_rate=0.1, max_depth=5, min_samples_split=2, n_estimators=100;, score=0.775 total time=   1.5s\n",
            "[CV 3/5] END learning_rate=0.1, max_depth=5, min_samples_split=2, n_estimators=100;, score=0.802 total time=   1.5s\n",
            "[CV 4/5] END learning_rate=0.1, max_depth=5, min_samples_split=2, n_estimators=100;, score=0.818 total time=   1.5s\n",
            "[CV 5/5] END learning_rate=0.1, max_depth=5, min_samples_split=2, n_estimators=100;, score=0.796 total time=   1.5s\n",
            "[CV 1/5] END learning_rate=0.1, max_depth=5, min_samples_split=2, n_estimators=300;, score=0.742 total time=   4.6s\n",
            "[CV 2/5] END learning_rate=0.1, max_depth=5, min_samples_split=2, n_estimators=300;, score=0.757 total time=   4.5s\n",
            "[CV 3/5] END learning_rate=0.1, max_depth=5, min_samples_split=2, n_estimators=300;, score=0.829 total time=   4.5s\n",
            "[CV 4/5] END learning_rate=0.1, max_depth=5, min_samples_split=2, n_estimators=300;, score=0.829 total time=   4.4s\n",
            "[CV 5/5] END learning_rate=0.1, max_depth=5, min_samples_split=2, n_estimators=300;, score=0.820 total time=   4.5s\n",
            "[CV 1/5] END learning_rate=0.1, max_depth=5, min_samples_split=2, n_estimators=500;, score=0.727 total time=   7.6s\n",
            "[CV 2/5] END learning_rate=0.1, max_depth=5, min_samples_split=2, n_estimators=500;, score=0.754 total time=   7.7s\n",
            "[CV 3/5] END learning_rate=0.1, max_depth=5, min_samples_split=2, n_estimators=500;, score=0.841 total time=   7.5s\n",
            "[CV 4/5] END learning_rate=0.1, max_depth=5, min_samples_split=2, n_estimators=500;, score=0.841 total time=   7.5s\n",
            "[CV 5/5] END learning_rate=0.1, max_depth=5, min_samples_split=2, n_estimators=500;, score=0.836 total time=   7.4s\n",
            "[CV 1/5] END learning_rate=0.1, max_depth=5, min_samples_split=2, n_estimators=600;, score=0.723 total time=   9.2s\n",
            "[CV 2/5] END learning_rate=0.1, max_depth=5, min_samples_split=2, n_estimators=600;, score=0.752 total time=   9.2s\n",
            "[CV 3/5] END learning_rate=0.1, max_depth=5, min_samples_split=2, n_estimators=600;, score=0.848 total time=   8.9s\n",
            "[CV 4/5] END learning_rate=0.1, max_depth=5, min_samples_split=2, n_estimators=600;, score=0.849 total time=   9.0s\n",
            "[CV 5/5] END learning_rate=0.1, max_depth=5, min_samples_split=2, n_estimators=600;, score=0.849 total time=   9.0s\n",
            "[CV 1/5] END learning_rate=0.1, max_depth=5, min_samples_split=3, n_estimators=100;, score=0.763 total time=   1.5s\n",
            "[CV 2/5] END learning_rate=0.1, max_depth=5, min_samples_split=3, n_estimators=100;, score=0.783 total time=   1.5s\n",
            "[CV 3/5] END learning_rate=0.1, max_depth=5, min_samples_split=3, n_estimators=100;, score=0.792 total time=   1.5s\n",
            "[CV 4/5] END learning_rate=0.1, max_depth=5, min_samples_split=3, n_estimators=100;, score=0.815 total time=   1.5s\n",
            "[CV 5/5] END learning_rate=0.1, max_depth=5, min_samples_split=3, n_estimators=100;, score=0.800 total time=   1.5s\n",
            "[CV 1/5] END learning_rate=0.1, max_depth=5, min_samples_split=3, n_estimators=300;, score=0.734 total time=   4.6s\n",
            "[CV 2/5] END learning_rate=0.1, max_depth=5, min_samples_split=3, n_estimators=300;, score=0.764 total time=   4.7s\n",
            "[CV 3/5] END learning_rate=0.1, max_depth=5, min_samples_split=3, n_estimators=300;, score=0.818 total time=   4.6s\n",
            "[CV 4/5] END learning_rate=0.1, max_depth=5, min_samples_split=3, n_estimators=300;, score=0.839 total time=   4.5s\n",
            "[CV 5/5] END learning_rate=0.1, max_depth=5, min_samples_split=3, n_estimators=300;, score=0.830 total time=   4.5s\n",
            "[CV 1/5] END learning_rate=0.1, max_depth=5, min_samples_split=3, n_estimators=500;, score=0.720 total time=   7.7s\n",
            "[CV 2/5] END learning_rate=0.1, max_depth=5, min_samples_split=3, n_estimators=500;, score=0.760 total time=   7.7s\n",
            "[CV 3/5] END learning_rate=0.1, max_depth=5, min_samples_split=3, n_estimators=500;, score=0.836 total time=   7.5s\n",
            "[CV 4/5] END learning_rate=0.1, max_depth=5, min_samples_split=3, n_estimators=500;, score=0.843 total time=   7.6s\n",
            "[CV 5/5] END learning_rate=0.1, max_depth=5, min_samples_split=3, n_estimators=500;, score=0.837 total time=   7.5s\n",
            "[CV 1/5] END learning_rate=0.1, max_depth=5, min_samples_split=3, n_estimators=600;, score=0.715 total time=   9.2s\n",
            "[CV 2/5] END learning_rate=0.1, max_depth=5, min_samples_split=3, n_estimators=600;, score=0.751 total time=   9.2s\n",
            "[CV 3/5] END learning_rate=0.1, max_depth=5, min_samples_split=3, n_estimators=600;, score=0.838 total time=   9.1s\n",
            "[CV 4/5] END learning_rate=0.1, max_depth=5, min_samples_split=3, n_estimators=600;, score=0.848 total time=   9.1s\n",
            "[CV 5/5] END learning_rate=0.1, max_depth=5, min_samples_split=3, n_estimators=600;, score=0.837 total time=   9.0s\n",
            "[CV 1/5] END learning_rate=0.1, max_depth=5, min_samples_split=4, n_estimators=100;, score=0.769 total time=   1.6s\n",
            "[CV 2/5] END learning_rate=0.1, max_depth=5, min_samples_split=4, n_estimators=100;, score=0.777 total time=   1.6s\n",
            "[CV 3/5] END learning_rate=0.1, max_depth=5, min_samples_split=4, n_estimators=100;, score=0.795 total time=   1.5s\n",
            "[CV 4/5] END learning_rate=0.1, max_depth=5, min_samples_split=4, n_estimators=100;, score=0.811 total time=   1.5s\n",
            "[CV 5/5] END learning_rate=0.1, max_depth=5, min_samples_split=4, n_estimators=100;, score=0.803 total time=   1.5s\n",
            "[CV 1/5] END learning_rate=0.1, max_depth=5, min_samples_split=4, n_estimators=300;, score=0.740 total time=   4.6s\n",
            "[CV 2/5] END learning_rate=0.1, max_depth=5, min_samples_split=4, n_estimators=300;, score=0.766 total time=   4.6s\n",
            "[CV 3/5] END learning_rate=0.1, max_depth=5, min_samples_split=4, n_estimators=300;, score=0.825 total time=   4.5s\n",
            "[CV 4/5] END learning_rate=0.1, max_depth=5, min_samples_split=4, n_estimators=300;, score=0.836 total time=   4.6s\n",
            "[CV 5/5] END learning_rate=0.1, max_depth=5, min_samples_split=4, n_estimators=300;, score=0.835 total time=   4.4s\n",
            "[CV 1/5] END learning_rate=0.1, max_depth=5, min_samples_split=4, n_estimators=500;, score=0.730 total time=   7.7s\n",
            "[CV 2/5] END learning_rate=0.1, max_depth=5, min_samples_split=4, n_estimators=500;, score=0.752 total time=   7.7s\n",
            "[CV 3/5] END learning_rate=0.1, max_depth=5, min_samples_split=4, n_estimators=500;, score=0.843 total time=   7.5s\n",
            "[CV 4/5] END learning_rate=0.1, max_depth=5, min_samples_split=4, n_estimators=500;, score=0.840 total time=   7.4s\n",
            "[CV 5/5] END learning_rate=0.1, max_depth=5, min_samples_split=4, n_estimators=500;, score=0.840 total time=   7.5s\n",
            "[CV 1/5] END learning_rate=0.1, max_depth=5, min_samples_split=4, n_estimators=600;, score=0.722 total time=   9.2s\n",
            "[CV 2/5] END learning_rate=0.1, max_depth=5, min_samples_split=4, n_estimators=600;, score=0.749 total time=   9.1s\n",
            "[CV 3/5] END learning_rate=0.1, max_depth=5, min_samples_split=4, n_estimators=600;, score=0.847 total time=   8.9s\n",
            "[CV 4/5] END learning_rate=0.1, max_depth=5, min_samples_split=4, n_estimators=600;, score=0.845 total time=   8.9s\n",
            "[CV 5/5] END learning_rate=0.1, max_depth=5, min_samples_split=4, n_estimators=600;, score=0.846 total time=   8.9s\n",
            "[CV 1/5] END learning_rate=0.1, max_depth=5, min_samples_split=5, n_estimators=100;, score=0.763 total time=   1.5s\n",
            "[CV 2/5] END learning_rate=0.1, max_depth=5, min_samples_split=5, n_estimators=100;, score=0.777 total time=   1.5s\n",
            "[CV 3/5] END learning_rate=0.1, max_depth=5, min_samples_split=5, n_estimators=100;, score=0.795 total time=   1.5s\n",
            "[CV 4/5] END learning_rate=0.1, max_depth=5, min_samples_split=5, n_estimators=100;, score=0.820 total time=   1.5s\n",
            "[CV 5/5] END learning_rate=0.1, max_depth=5, min_samples_split=5, n_estimators=100;, score=0.797 total time=   1.5s\n",
            "[CV 1/5] END learning_rate=0.1, max_depth=5, min_samples_split=5, n_estimators=300;, score=0.740 total time=   4.6s\n",
            "[CV 2/5] END learning_rate=0.1, max_depth=5, min_samples_split=5, n_estimators=300;, score=0.766 total time=   4.6s\n",
            "[CV 3/5] END learning_rate=0.1, max_depth=5, min_samples_split=5, n_estimators=300;, score=0.828 total time=   4.5s\n",
            "[CV 4/5] END learning_rate=0.1, max_depth=5, min_samples_split=5, n_estimators=300;, score=0.837 total time=   4.5s\n",
            "[CV 5/5] END learning_rate=0.1, max_depth=5, min_samples_split=5, n_estimators=300;, score=0.822 total time=   4.5s\n",
            "[CV 1/5] END learning_rate=0.1, max_depth=5, min_samples_split=5, n_estimators=500;, score=0.736 total time=   7.6s\n",
            "[CV 2/5] END learning_rate=0.1, max_depth=5, min_samples_split=5, n_estimators=500;, score=0.757 total time=   7.5s\n",
            "[CV 3/5] END learning_rate=0.1, max_depth=5, min_samples_split=5, n_estimators=500;, score=0.836 total time=   7.4s\n",
            "[CV 4/5] END learning_rate=0.1, max_depth=5, min_samples_split=5, n_estimators=500;, score=0.840 total time=   7.4s\n",
            "[CV 5/5] END learning_rate=0.1, max_depth=5, min_samples_split=5, n_estimators=500;, score=0.834 total time=   7.4s\n",
            "[CV 1/5] END learning_rate=0.1, max_depth=5, min_samples_split=5, n_estimators=600;, score=0.721 total time=   9.1s\n",
            "[CV 2/5] END learning_rate=0.1, max_depth=5, min_samples_split=5, n_estimators=600;, score=0.756 total time=   9.1s\n",
            "[CV 3/5] END learning_rate=0.1, max_depth=5, min_samples_split=5, n_estimators=600;, score=0.846 total time=   8.9s\n",
            "[CV 4/5] END learning_rate=0.1, max_depth=5, min_samples_split=5, n_estimators=600;, score=0.848 total time=   8.9s\n",
            "[CV 5/5] END learning_rate=0.1, max_depth=5, min_samples_split=5, n_estimators=600;, score=0.837 total time=   8.8s\n",
            "[CV 1/5] END learning_rate=0.1, max_depth=6, min_samples_split=2, n_estimators=100;, score=0.746 total time=   1.9s\n",
            "[CV 2/5] END learning_rate=0.1, max_depth=6, min_samples_split=2, n_estimators=100;, score=0.770 total time=   1.9s\n",
            "[CV 3/5] END learning_rate=0.1, max_depth=6, min_samples_split=2, n_estimators=100;, score=0.818 total time=   1.8s\n",
            "[CV 4/5] END learning_rate=0.1, max_depth=6, min_samples_split=2, n_estimators=100;, score=0.819 total time=   1.8s\n",
            "[CV 5/5] END learning_rate=0.1, max_depth=6, min_samples_split=2, n_estimators=100;, score=0.823 total time=   1.8s\n",
            "[CV 1/5] END learning_rate=0.1, max_depth=6, min_samples_split=2, n_estimators=300;, score=0.726 total time=   5.6s\n",
            "[CV 2/5] END learning_rate=0.1, max_depth=6, min_samples_split=2, n_estimators=300;, score=0.761 total time=   5.5s\n",
            "[CV 3/5] END learning_rate=0.1, max_depth=6, min_samples_split=2, n_estimators=300;, score=0.837 total time=   5.3s\n",
            "[CV 4/5] END learning_rate=0.1, max_depth=6, min_samples_split=2, n_estimators=300;, score=0.845 total time=   5.4s\n",
            "[CV 5/5] END learning_rate=0.1, max_depth=6, min_samples_split=2, n_estimators=300;, score=0.829 total time=   5.5s\n",
            "[CV 1/5] END learning_rate=0.1, max_depth=6, min_samples_split=2, n_estimators=500;, score=0.717 total time=   9.1s\n",
            "[CV 2/5] END learning_rate=0.1, max_depth=6, min_samples_split=2, n_estimators=500;, score=0.753 total time=   9.1s\n",
            "[CV 3/5] END learning_rate=0.1, max_depth=6, min_samples_split=2, n_estimators=500;, score=0.844 total time=   9.0s\n",
            "[CV 4/5] END learning_rate=0.1, max_depth=6, min_samples_split=2, n_estimators=500;, score=0.845 total time=   8.9s\n",
            "[CV 5/5] END learning_rate=0.1, max_depth=6, min_samples_split=2, n_estimators=500;, score=0.842 total time=   9.0s\n",
            "[CV 1/5] END learning_rate=0.1, max_depth=6, min_samples_split=2, n_estimators=600;, score=0.712 total time=  11.0s\n",
            "[CV 2/5] END learning_rate=0.1, max_depth=6, min_samples_split=2, n_estimators=600;, score=0.747 total time=  11.0s\n",
            "[CV 3/5] END learning_rate=0.1, max_depth=6, min_samples_split=2, n_estimators=600;, score=0.843 total time=  10.7s\n",
            "[CV 4/5] END learning_rate=0.1, max_depth=6, min_samples_split=2, n_estimators=600;, score=0.845 total time=  10.7s\n",
            "[CV 5/5] END learning_rate=0.1, max_depth=6, min_samples_split=2, n_estimators=600;, score=0.843 total time=  10.8s\n",
            "[CV 1/5] END learning_rate=0.1, max_depth=6, min_samples_split=3, n_estimators=100;, score=0.752 total time=   1.8s\n",
            "[CV 2/5] END learning_rate=0.1, max_depth=6, min_samples_split=3, n_estimators=100;, score=0.772 total time=   1.9s\n",
            "[CV 3/5] END learning_rate=0.1, max_depth=6, min_samples_split=3, n_estimators=100;, score=0.817 total time=   1.8s\n",
            "[CV 4/5] END learning_rate=0.1, max_depth=6, min_samples_split=3, n_estimators=100;, score=0.824 total time=   1.8s\n",
            "[CV 5/5] END learning_rate=0.1, max_depth=6, min_samples_split=3, n_estimators=100;, score=0.817 total time=   1.8s\n",
            "[CV 1/5] END learning_rate=0.1, max_depth=6, min_samples_split=3, n_estimators=300;, score=0.728 total time=   5.6s\n",
            "[CV 2/5] END learning_rate=0.1, max_depth=6, min_samples_split=3, n_estimators=300;, score=0.758 total time=   5.5s\n",
            "[CV 3/5] END learning_rate=0.1, max_depth=6, min_samples_split=3, n_estimators=300;, score=0.834 total time=   5.4s\n",
            "[CV 4/5] END learning_rate=0.1, max_depth=6, min_samples_split=3, n_estimators=300;, score=0.846 total time=   5.3s\n",
            "[CV 5/5] END learning_rate=0.1, max_depth=6, min_samples_split=3, n_estimators=300;, score=0.828 total time=   5.4s\n",
            "[CV 1/5] END learning_rate=0.1, max_depth=6, min_samples_split=3, n_estimators=500;, score=0.717 total time=   9.0s\n",
            "[CV 2/5] END learning_rate=0.1, max_depth=6, min_samples_split=3, n_estimators=500;, score=0.749 total time=   9.0s\n",
            "[CV 3/5] END learning_rate=0.1, max_depth=6, min_samples_split=3, n_estimators=500;, score=0.842 total time=   8.9s\n",
            "[CV 4/5] END learning_rate=0.1, max_depth=6, min_samples_split=3, n_estimators=500;, score=0.848 total time=   8.8s\n",
            "[CV 5/5] END learning_rate=0.1, max_depth=6, min_samples_split=3, n_estimators=500;, score=0.846 total time=   8.9s\n",
            "[CV 1/5] END learning_rate=0.1, max_depth=6, min_samples_split=3, n_estimators=600;, score=0.712 total time=  10.9s\n",
            "[CV 2/5] END learning_rate=0.1, max_depth=6, min_samples_split=3, n_estimators=600;, score=0.753 total time=  10.8s\n",
            "[CV 3/5] END learning_rate=0.1, max_depth=6, min_samples_split=3, n_estimators=600;, score=0.840 total time=  10.7s\n",
            "[CV 4/5] END learning_rate=0.1, max_depth=6, min_samples_split=3, n_estimators=600;, score=0.856 total time=  10.6s\n",
            "[CV 5/5] END learning_rate=0.1, max_depth=6, min_samples_split=3, n_estimators=600;, score=0.845 total time=  10.6s\n",
            "[CV 1/5] END learning_rate=0.1, max_depth=6, min_samples_split=4, n_estimators=100;, score=0.751 total time=   1.8s\n",
            "[CV 2/5] END learning_rate=0.1, max_depth=6, min_samples_split=4, n_estimators=100;, score=0.769 total time=   1.9s\n",
            "[CV 3/5] END learning_rate=0.1, max_depth=6, min_samples_split=4, n_estimators=100;, score=0.818 total time=   1.8s\n",
            "[CV 4/5] END learning_rate=0.1, max_depth=6, min_samples_split=4, n_estimators=100;, score=0.829 total time=   1.8s\n",
            "[CV 5/5] END learning_rate=0.1, max_depth=6, min_samples_split=4, n_estimators=100;, score=0.817 total time=   1.8s\n",
            "[CV 1/5] END learning_rate=0.1, max_depth=6, min_samples_split=4, n_estimators=300;, score=0.731 total time=   5.4s\n",
            "[CV 2/5] END learning_rate=0.1, max_depth=6, min_samples_split=4, n_estimators=300;, score=0.765 total time=   5.4s\n",
            "[CV 3/5] END learning_rate=0.1, max_depth=6, min_samples_split=4, n_estimators=300;, score=0.839 total time=   5.3s\n",
            "[CV 4/5] END learning_rate=0.1, max_depth=6, min_samples_split=4, n_estimators=300;, score=0.848 total time=   5.3s\n",
            "[CV 5/5] END learning_rate=0.1, max_depth=6, min_samples_split=4, n_estimators=300;, score=0.827 total time=   5.3s\n",
            "[CV 1/5] END learning_rate=0.1, max_depth=6, min_samples_split=4, n_estimators=500;, score=0.716 total time=   9.1s\n",
            "[CV 2/5] END learning_rate=0.1, max_depth=6, min_samples_split=4, n_estimators=500;, score=0.755 total time=   9.0s\n",
            "[CV 3/5] END learning_rate=0.1, max_depth=6, min_samples_split=4, n_estimators=500;, score=0.842 total time=   8.8s\n",
            "[CV 4/5] END learning_rate=0.1, max_depth=6, min_samples_split=4, n_estimators=500;, score=0.854 total time=   8.9s\n",
            "[CV 5/5] END learning_rate=0.1, max_depth=6, min_samples_split=4, n_estimators=500;, score=0.840 total time=   8.8s\n",
            "[CV 1/5] END learning_rate=0.1, max_depth=6, min_samples_split=4, n_estimators=600;, score=0.714 total time=  10.9s\n",
            "[CV 2/5] END learning_rate=0.1, max_depth=6, min_samples_split=4, n_estimators=600;, score=0.751 total time=  10.8s\n",
            "[CV 3/5] END learning_rate=0.1, max_depth=6, min_samples_split=4, n_estimators=600;, score=0.844 total time=  10.6s\n",
            "[CV 4/5] END learning_rate=0.1, max_depth=6, min_samples_split=4, n_estimators=600;, score=0.853 total time=  10.6s\n",
            "[CV 5/5] END learning_rate=0.1, max_depth=6, min_samples_split=4, n_estimators=600;, score=0.844 total time=  10.6s\n",
            "[CV 1/5] END learning_rate=0.1, max_depth=6, min_samples_split=5, n_estimators=100;, score=0.759 total time=   1.8s\n",
            "[CV 2/5] END learning_rate=0.1, max_depth=6, min_samples_split=5, n_estimators=100;, score=0.768 total time=   1.8s\n",
            "[CV 3/5] END learning_rate=0.1, max_depth=6, min_samples_split=5, n_estimators=100;, score=0.814 total time=   1.8s\n",
            "[CV 4/5] END learning_rate=0.1, max_depth=6, min_samples_split=5, n_estimators=100;, score=0.833 total time=   1.8s\n",
            "[CV 5/5] END learning_rate=0.1, max_depth=6, min_samples_split=5, n_estimators=100;, score=0.810 total time=   1.8s\n",
            "[CV 1/5] END learning_rate=0.1, max_depth=6, min_samples_split=5, n_estimators=300;, score=0.729 total time=   5.5s\n",
            "[CV 2/5] END learning_rate=0.1, max_depth=6, min_samples_split=5, n_estimators=300;, score=0.761 total time=   5.4s\n",
            "[CV 3/5] END learning_rate=0.1, max_depth=6, min_samples_split=5, n_estimators=300;, score=0.839 total time=   5.3s\n",
            "[CV 4/5] END learning_rate=0.1, max_depth=6, min_samples_split=5, n_estimators=300;, score=0.845 total time=   5.3s\n",
            "[CV 5/5] END learning_rate=0.1, max_depth=6, min_samples_split=5, n_estimators=300;, score=0.837 total time=   5.4s\n",
            "[CV 1/5] END learning_rate=0.1, max_depth=6, min_samples_split=5, n_estimators=500;, score=0.713 total time=   9.1s\n",
            "[CV 2/5] END learning_rate=0.1, max_depth=6, min_samples_split=5, n_estimators=500;, score=0.753 total time=   9.0s\n",
            "[CV 3/5] END learning_rate=0.1, max_depth=6, min_samples_split=5, n_estimators=500;, score=0.846 total time=   8.8s\n",
            "[CV 4/5] END learning_rate=0.1, max_depth=6, min_samples_split=5, n_estimators=500;, score=0.860 total time=   8.8s\n",
            "[CV 5/5] END learning_rate=0.1, max_depth=6, min_samples_split=5, n_estimators=500;, score=0.843 total time=   8.8s\n",
            "[CV 1/5] END learning_rate=0.1, max_depth=6, min_samples_split=5, n_estimators=600;, score=0.713 total time=  10.8s\n",
            "[CV 2/5] END learning_rate=0.1, max_depth=6, min_samples_split=5, n_estimators=600;, score=0.751 total time=  10.8s\n",
            "[CV 3/5] END learning_rate=0.1, max_depth=6, min_samples_split=5, n_estimators=600;, score=0.844 total time=  10.6s\n",
            "[CV 4/5] END learning_rate=0.1, max_depth=6, min_samples_split=5, n_estimators=600;, score=0.857 total time=  10.6s\n",
            "[CV 5/5] END learning_rate=0.1, max_depth=6, min_samples_split=5, n_estimators=600;, score=0.842 total time=  10.5s\n",
            "[CV 1/5] END learning_rate=0.1, max_depth=7, min_samples_split=2, n_estimators=100;, score=0.748 total time=   2.2s\n",
            "[CV 2/5] END learning_rate=0.1, max_depth=7, min_samples_split=2, n_estimators=100;, score=0.772 total time=   2.2s\n",
            "[CV 3/5] END learning_rate=0.1, max_depth=7, min_samples_split=2, n_estimators=100;, score=0.819 total time=   2.2s\n",
            "[CV 4/5] END learning_rate=0.1, max_depth=7, min_samples_split=2, n_estimators=100;, score=0.833 total time=   2.2s\n",
            "[CV 5/5] END learning_rate=0.1, max_depth=7, min_samples_split=2, n_estimators=100;, score=0.824 total time=   2.1s\n",
            "[CV 1/5] END learning_rate=0.1, max_depth=7, min_samples_split=2, n_estimators=300;, score=0.723 total time=   6.5s\n",
            "[CV 2/5] END learning_rate=0.1, max_depth=7, min_samples_split=2, n_estimators=300;, score=0.763 total time=   6.5s\n",
            "[CV 3/5] END learning_rate=0.1, max_depth=7, min_samples_split=2, n_estimators=300;, score=0.828 total time=   6.4s\n",
            "[CV 4/5] END learning_rate=0.1, max_depth=7, min_samples_split=2, n_estimators=300;, score=0.845 total time=   6.5s\n",
            "[CV 5/5] END learning_rate=0.1, max_depth=7, min_samples_split=2, n_estimators=300;, score=0.836 total time=   6.5s\n",
            "[CV 1/5] END learning_rate=0.1, max_depth=7, min_samples_split=2, n_estimators=500;, score=0.714 total time=  10.8s\n",
            "[CV 2/5] END learning_rate=0.1, max_depth=7, min_samples_split=2, n_estimators=500;, score=0.758 total time=  10.8s\n",
            "[CV 3/5] END learning_rate=0.1, max_depth=7, min_samples_split=2, n_estimators=500;, score=0.837 total time=  10.7s\n",
            "[CV 4/5] END learning_rate=0.1, max_depth=7, min_samples_split=2, n_estimators=500;, score=0.850 total time=  10.6s\n",
            "[CV 5/5] END learning_rate=0.1, max_depth=7, min_samples_split=2, n_estimators=500;, score=0.840 total time=  10.6s\n",
            "[CV 1/5] END learning_rate=0.1, max_depth=7, min_samples_split=2, n_estimators=600;, score=0.712 total time=  13.1s\n",
            "[CV 2/5] END learning_rate=0.1, max_depth=7, min_samples_split=2, n_estimators=600;, score=0.760 total time=  13.0s\n",
            "[CV 3/5] END learning_rate=0.1, max_depth=7, min_samples_split=2, n_estimators=600;, score=0.842 total time=  12.7s\n",
            "[CV 4/5] END learning_rate=0.1, max_depth=7, min_samples_split=2, n_estimators=600;, score=0.851 total time=  12.7s\n",
            "[CV 5/5] END learning_rate=0.1, max_depth=7, min_samples_split=2, n_estimators=600;, score=0.844 total time=  12.8s\n",
            "[CV 1/5] END learning_rate=0.1, max_depth=7, min_samples_split=3, n_estimators=100;, score=0.753 total time=   2.2s\n",
            "[CV 2/5] END learning_rate=0.1, max_depth=7, min_samples_split=3, n_estimators=100;, score=0.779 total time=   2.2s\n",
            "[CV 3/5] END learning_rate=0.1, max_depth=7, min_samples_split=3, n_estimators=100;, score=0.815 total time=   2.2s\n",
            "[CV 4/5] END learning_rate=0.1, max_depth=7, min_samples_split=3, n_estimators=100;, score=0.833 total time=   2.2s\n",
            "[CV 5/5] END learning_rate=0.1, max_depth=7, min_samples_split=3, n_estimators=100;, score=0.828 total time=   2.2s\n",
            "[CV 1/5] END learning_rate=0.1, max_depth=7, min_samples_split=3, n_estimators=300;, score=0.732 total time=   6.4s\n",
            "[CV 2/5] END learning_rate=0.1, max_depth=7, min_samples_split=3, n_estimators=300;, score=0.757 total time=   6.5s\n",
            "[CV 3/5] END learning_rate=0.1, max_depth=7, min_samples_split=3, n_estimators=300;, score=0.834 total time=   6.3s\n",
            "[CV 4/5] END learning_rate=0.1, max_depth=7, min_samples_split=3, n_estimators=300;, score=0.862 total time=   6.3s\n",
            "[CV 5/5] END learning_rate=0.1, max_depth=7, min_samples_split=3, n_estimators=300;, score=0.840 total time=   6.4s\n",
            "[CV 1/5] END learning_rate=0.1, max_depth=7, min_samples_split=3, n_estimators=500;, score=0.720 total time=  10.9s\n",
            "[CV 2/5] END learning_rate=0.1, max_depth=7, min_samples_split=3, n_estimators=500;, score=0.751 total time=  10.8s\n",
            "[CV 3/5] END learning_rate=0.1, max_depth=7, min_samples_split=3, n_estimators=500;, score=0.840 total time=  10.4s\n",
            "[CV 4/5] END learning_rate=0.1, max_depth=7, min_samples_split=3, n_estimators=500;, score=0.845 total time=  10.5s\n",
            "[CV 5/5] END learning_rate=0.1, max_depth=7, min_samples_split=3, n_estimators=500;, score=0.836 total time=  10.5s\n",
            "[CV 1/5] END learning_rate=0.1, max_depth=7, min_samples_split=3, n_estimators=600;, score=0.716 total time=  12.9s\n",
            "[CV 2/5] END learning_rate=0.1, max_depth=7, min_samples_split=3, n_estimators=600;, score=0.751 total time=  12.9s\n",
            "[CV 3/5] END learning_rate=0.1, max_depth=7, min_samples_split=3, n_estimators=600;, score=0.837 total time=  12.5s\n",
            "[CV 4/5] END learning_rate=0.1, max_depth=7, min_samples_split=3, n_estimators=600;, score=0.854 total time=  12.4s\n",
            "[CV 5/5] END learning_rate=0.1, max_depth=7, min_samples_split=3, n_estimators=600;, score=0.840 total time=  12.5s\n",
            "[CV 1/5] END learning_rate=0.1, max_depth=7, min_samples_split=4, n_estimators=100;, score=0.749 total time=   2.2s\n",
            "[CV 2/5] END learning_rate=0.1, max_depth=7, min_samples_split=4, n_estimators=100;, score=0.782 total time=   2.3s\n",
            "[CV 3/5] END learning_rate=0.1, max_depth=7, min_samples_split=4, n_estimators=100;, score=0.819 total time=   2.2s\n",
            "[CV 4/5] END learning_rate=0.1, max_depth=7, min_samples_split=4, n_estimators=100;, score=0.829 total time=   2.2s\n",
            "[CV 5/5] END learning_rate=0.1, max_depth=7, min_samples_split=4, n_estimators=100;, score=0.824 total time=   2.2s\n",
            "[CV 1/5] END learning_rate=0.1, max_depth=7, min_samples_split=4, n_estimators=300;, score=0.733 total time=   6.5s\n",
            "[CV 2/5] END learning_rate=0.1, max_depth=7, min_samples_split=4, n_estimators=300;, score=0.768 total time=   6.5s\n",
            "[CV 3/5] END learning_rate=0.1, max_depth=7, min_samples_split=4, n_estimators=300;, score=0.829 total time=   6.2s\n",
            "[CV 4/5] END learning_rate=0.1, max_depth=7, min_samples_split=4, n_estimators=300;, score=0.850 total time=   6.2s\n",
            "[CV 5/5] END learning_rate=0.1, max_depth=7, min_samples_split=4, n_estimators=300;, score=0.838 total time=   6.2s\n",
            "[CV 1/5] END learning_rate=0.1, max_depth=7, min_samples_split=4, n_estimators=500;, score=0.720 total time=  10.7s\n",
            "[CV 2/5] END learning_rate=0.1, max_depth=7, min_samples_split=4, n_estimators=500;, score=0.757 total time=  10.6s\n",
            "[CV 3/5] END learning_rate=0.1, max_depth=7, min_samples_split=4, n_estimators=500;, score=0.843 total time=  10.3s\n",
            "[CV 4/5] END learning_rate=0.1, max_depth=7, min_samples_split=4, n_estimators=500;, score=0.856 total time=  10.4s\n",
            "[CV 5/5] END learning_rate=0.1, max_depth=7, min_samples_split=4, n_estimators=500;, score=0.842 total time=  10.5s\n",
            "[CV 1/5] END learning_rate=0.1, max_depth=7, min_samples_split=4, n_estimators=600;, score=0.712 total time=  12.6s\n",
            "[CV 2/5] END learning_rate=0.1, max_depth=7, min_samples_split=4, n_estimators=600;, score=0.758 total time=  12.7s\n",
            "[CV 3/5] END learning_rate=0.1, max_depth=7, min_samples_split=4, n_estimators=600;, score=0.842 total time=  12.4s\n",
            "[CV 4/5] END learning_rate=0.1, max_depth=7, min_samples_split=4, n_estimators=600;, score=0.856 total time=  12.5s\n",
            "[CV 5/5] END learning_rate=0.1, max_depth=7, min_samples_split=4, n_estimators=600;, score=0.845 total time=  12.4s\n",
            "[CV 1/5] END learning_rate=0.1, max_depth=7, min_samples_split=5, n_estimators=100;, score=0.755 total time=   2.2s\n",
            "[CV 2/5] END learning_rate=0.1, max_depth=7, min_samples_split=5, n_estimators=100;, score=0.779 total time=   2.1s\n",
            "[CV 3/5] END learning_rate=0.1, max_depth=7, min_samples_split=5, n_estimators=100;, score=0.822 total time=   2.1s\n",
            "[CV 4/5] END learning_rate=0.1, max_depth=7, min_samples_split=5, n_estimators=100;, score=0.829 total time=   2.1s\n",
            "[CV 5/5] END learning_rate=0.1, max_depth=7, min_samples_split=5, n_estimators=100;, score=0.825 total time=   2.1s\n",
            "[CV 1/5] END learning_rate=0.1, max_depth=7, min_samples_split=5, n_estimators=300;, score=0.738 total time=   6.4s\n",
            "[CV 2/5] END learning_rate=0.1, max_depth=7, min_samples_split=5, n_estimators=300;, score=0.764 total time=   6.4s\n",
            "[CV 3/5] END learning_rate=0.1, max_depth=7, min_samples_split=5, n_estimators=300;, score=0.832 total time=   6.3s\n",
            "[CV 4/5] END learning_rate=0.1, max_depth=7, min_samples_split=5, n_estimators=300;, score=0.857 total time=   6.3s\n",
            "[CV 5/5] END learning_rate=0.1, max_depth=7, min_samples_split=5, n_estimators=300;, score=0.840 total time=   6.3s\n",
            "[CV 1/5] END learning_rate=0.1, max_depth=7, min_samples_split=5, n_estimators=500;, score=0.719 total time=  10.5s\n",
            "[CV 2/5] END learning_rate=0.1, max_depth=7, min_samples_split=5, n_estimators=500;, score=0.749 total time=  10.5s\n",
            "[CV 3/5] END learning_rate=0.1, max_depth=7, min_samples_split=5, n_estimators=500;, score=0.834 total time=  10.3s\n",
            "[CV 4/5] END learning_rate=0.1, max_depth=7, min_samples_split=5, n_estimators=500;, score=0.851 total time=  10.4s\n",
            "[CV 5/5] END learning_rate=0.1, max_depth=7, min_samples_split=5, n_estimators=500;, score=0.835 total time=  10.3s\n",
            "[CV 1/5] END learning_rate=0.1, max_depth=7, min_samples_split=5, n_estimators=600;, score=0.715 total time=  12.6s\n",
            "[CV 2/5] END learning_rate=0.1, max_depth=7, min_samples_split=5, n_estimators=600;, score=0.750 total time=  12.7s\n",
            "[CV 3/5] END learning_rate=0.1, max_depth=7, min_samples_split=5, n_estimators=600;, score=0.833 total time=  12.4s\n",
            "[CV 4/5] END learning_rate=0.1, max_depth=7, min_samples_split=5, n_estimators=600;, score=0.865 total time=  12.3s\n",
            "[CV 5/5] END learning_rate=0.1, max_depth=7, min_samples_split=5, n_estimators=600;, score=0.850 total time=  12.4s\n",
            "[CV 1/5] END learning_rate=1, max_depth=3, min_samples_split=2, n_estimators=100;, score=0.698 total time=   1.0s\n",
            "[CV 2/5] END learning_rate=1, max_depth=3, min_samples_split=2, n_estimators=100;, score=0.735 total time=   1.0s\n",
            "[CV 3/5] END learning_rate=1, max_depth=3, min_samples_split=2, n_estimators=100;, score=0.815 total time=   1.0s\n",
            "[CV 4/5] END learning_rate=1, max_depth=3, min_samples_split=2, n_estimators=100;, score=0.820 total time=   1.0s\n",
            "[CV 5/5] END learning_rate=1, max_depth=3, min_samples_split=2, n_estimators=100;, score=0.822 total time=   1.0s\n",
            "[CV 1/5] END learning_rate=1, max_depth=3, min_samples_split=2, n_estimators=300;, score=0.701 total time=   2.9s\n",
            "[CV 2/5] END learning_rate=1, max_depth=3, min_samples_split=2, n_estimators=300;, score=0.718 total time=   3.0s\n",
            "[CV 3/5] END learning_rate=1, max_depth=3, min_samples_split=2, n_estimators=300;, score=0.816 total time=   2.9s\n",
            "[CV 4/5] END learning_rate=1, max_depth=3, min_samples_split=2, n_estimators=300;, score=0.826 total time=   2.9s\n",
            "[CV 5/5] END learning_rate=1, max_depth=3, min_samples_split=2, n_estimators=300;, score=0.822 total time=   2.8s\n",
            "[CV 1/5] END learning_rate=1, max_depth=3, min_samples_split=2, n_estimators=500;, score=0.700 total time=   4.9s\n",
            "[CV 2/5] END learning_rate=1, max_depth=3, min_samples_split=2, n_estimators=500;, score=0.720 total time=   4.9s\n",
            "[CV 3/5] END learning_rate=1, max_depth=3, min_samples_split=2, n_estimators=500;, score=0.821 total time=   4.8s\n",
            "[CV 4/5] END learning_rate=1, max_depth=3, min_samples_split=2, n_estimators=500;, score=0.818 total time=   4.8s\n",
            "[CV 5/5] END learning_rate=1, max_depth=3, min_samples_split=2, n_estimators=500;, score=0.830 total time=   4.7s\n",
            "[CV 1/5] END learning_rate=1, max_depth=3, min_samples_split=2, n_estimators=600;, score=0.696 total time=   5.8s\n",
            "[CV 2/5] END learning_rate=1, max_depth=3, min_samples_split=2, n_estimators=600;, score=0.722 total time=   5.8s\n",
            "[CV 3/5] END learning_rate=1, max_depth=3, min_samples_split=2, n_estimators=600;, score=0.820 total time=   5.7s\n",
            "[CV 4/5] END learning_rate=1, max_depth=3, min_samples_split=2, n_estimators=600;, score=0.817 total time=   5.7s\n",
            "[CV 5/5] END learning_rate=1, max_depth=3, min_samples_split=2, n_estimators=600;, score=0.822 total time=   5.6s\n",
            "[CV 1/5] END learning_rate=1, max_depth=3, min_samples_split=3, n_estimators=100;, score=0.711 total time=   1.0s\n",
            "[CV 2/5] END learning_rate=1, max_depth=3, min_samples_split=3, n_estimators=100;, score=0.735 total time=   1.0s\n",
            "[CV 3/5] END learning_rate=1, max_depth=3, min_samples_split=3, n_estimators=100;, score=0.820 total time=   1.0s\n",
            "[CV 4/5] END learning_rate=1, max_depth=3, min_samples_split=3, n_estimators=100;, score=0.814 total time=   1.0s\n",
            "[CV 5/5] END learning_rate=1, max_depth=3, min_samples_split=3, n_estimators=100;, score=0.830 total time=   1.0s\n",
            "[CV 1/5] END learning_rate=1, max_depth=3, min_samples_split=3, n_estimators=300;, score=0.701 total time=   2.9s\n",
            "[CV 2/5] END learning_rate=1, max_depth=3, min_samples_split=3, n_estimators=300;, score=0.738 total time=   2.9s\n",
            "[CV 3/5] END learning_rate=1, max_depth=3, min_samples_split=3, n_estimators=300;, score=0.813 total time=   2.9s\n",
            "[CV 4/5] END learning_rate=1, max_depth=3, min_samples_split=3, n_estimators=300;, score=0.817 total time=   2.8s\n",
            "[CV 5/5] END learning_rate=1, max_depth=3, min_samples_split=3, n_estimators=300;, score=0.834 total time=   2.8s\n",
            "[CV 1/5] END learning_rate=1, max_depth=3, min_samples_split=3, n_estimators=500;, score=0.693 total time=   4.8s\n",
            "[CV 2/5] END learning_rate=1, max_depth=3, min_samples_split=3, n_estimators=500;, score=0.738 total time=   4.8s\n",
            "[CV 3/5] END learning_rate=1, max_depth=3, min_samples_split=3, n_estimators=500;, score=0.812 total time=   4.7s\n",
            "[CV 4/5] END learning_rate=1, max_depth=3, min_samples_split=3, n_estimators=500;, score=0.832 total time=   4.6s\n",
            "[CV 5/5] END learning_rate=1, max_depth=3, min_samples_split=3, n_estimators=500;, score=0.828 total time=   4.7s\n",
            "[CV 1/5] END learning_rate=1, max_depth=3, min_samples_split=3, n_estimators=600;, score=0.694 total time=   5.7s\n",
            "[CV 2/5] END learning_rate=1, max_depth=3, min_samples_split=3, n_estimators=600;, score=0.734 total time=   5.8s\n",
            "[CV 3/5] END learning_rate=1, max_depth=3, min_samples_split=3, n_estimators=600;, score=0.815 total time=   5.7s\n",
            "[CV 4/5] END learning_rate=1, max_depth=3, min_samples_split=3, n_estimators=600;, score=0.829 total time=   5.6s\n",
            "[CV 5/5] END learning_rate=1, max_depth=3, min_samples_split=3, n_estimators=600;, score=0.834 total time=   5.6s\n",
            "[CV 1/5] END learning_rate=1, max_depth=3, min_samples_split=4, n_estimators=100;, score=0.711 total time=   1.0s\n",
            "[CV 2/5] END learning_rate=1, max_depth=3, min_samples_split=4, n_estimators=100;, score=0.734 total time=   1.0s\n",
            "[CV 3/5] END learning_rate=1, max_depth=3, min_samples_split=4, n_estimators=100;, score=0.805 total time=   0.9s\n",
            "[CV 4/5] END learning_rate=1, max_depth=3, min_samples_split=4, n_estimators=100;, score=0.816 total time=   1.0s\n",
            "[CV 5/5] END learning_rate=1, max_depth=3, min_samples_split=4, n_estimators=100;, score=0.818 total time=   1.0s\n",
            "[CV 1/5] END learning_rate=1, max_depth=3, min_samples_split=4, n_estimators=300;, score=0.695 total time=   2.9s\n",
            "[CV 2/5] END learning_rate=1, max_depth=3, min_samples_split=4, n_estimators=300;, score=0.728 total time=   2.9s\n",
            "[CV 3/5] END learning_rate=1, max_depth=3, min_samples_split=4, n_estimators=300;, score=0.812 total time=   2.8s\n",
            "[CV 4/5] END learning_rate=1, max_depth=3, min_samples_split=4, n_estimators=300;, score=0.811 total time=   2.8s\n",
            "[CV 5/5] END learning_rate=1, max_depth=3, min_samples_split=4, n_estimators=300;, score=0.829 total time=   2.8s\n",
            "[CV 1/5] END learning_rate=1, max_depth=3, min_samples_split=4, n_estimators=500;, score=0.681 total time=   4.8s\n",
            "[CV 2/5] END learning_rate=1, max_depth=3, min_samples_split=4, n_estimators=500;, score=0.730 total time=   4.8s\n",
            "[CV 3/5] END learning_rate=1, max_depth=3, min_samples_split=4, n_estimators=500;, score=0.821 total time=   4.7s\n",
            "[CV 4/5] END learning_rate=1, max_depth=3, min_samples_split=4, n_estimators=500;, score=0.831 total time=   4.7s\n",
            "[CV 5/5] END learning_rate=1, max_depth=3, min_samples_split=4, n_estimators=500;, score=0.826 total time=   4.6s\n",
            "[CV 1/5] END learning_rate=1, max_depth=3, min_samples_split=4, n_estimators=600;, score=0.681 total time=   5.8s\n",
            "[CV 2/5] END learning_rate=1, max_depth=3, min_samples_split=4, n_estimators=600;, score=0.736 total time=   5.7s\n",
            "[CV 3/5] END learning_rate=1, max_depth=3, min_samples_split=4, n_estimators=600;, score=0.822 total time=   5.6s\n",
            "[CV 4/5] END learning_rate=1, max_depth=3, min_samples_split=4, n_estimators=600;, score=0.829 total time=   5.5s\n",
            "[CV 5/5] END learning_rate=1, max_depth=3, min_samples_split=4, n_estimators=600;, score=0.828 total time=   5.6s\n",
            "[CV 1/5] END learning_rate=1, max_depth=3, min_samples_split=5, n_estimators=100;, score=0.720 total time=   1.0s\n",
            "[CV 2/5] END learning_rate=1, max_depth=3, min_samples_split=5, n_estimators=100;, score=0.732 total time=   1.0s\n",
            "[CV 3/5] END learning_rate=1, max_depth=3, min_samples_split=5, n_estimators=100;, score=0.810 total time=   0.9s\n",
            "[CV 4/5] END learning_rate=1, max_depth=3, min_samples_split=5, n_estimators=100;, score=0.816 total time=   1.0s\n",
            "[CV 5/5] END learning_rate=1, max_depth=3, min_samples_split=5, n_estimators=100;, score=0.816 total time=   0.9s\n",
            "[CV 1/5] END learning_rate=1, max_depth=3, min_samples_split=5, n_estimators=300;, score=0.703 total time=   2.9s\n",
            "[CV 2/5] END learning_rate=1, max_depth=3, min_samples_split=5, n_estimators=300;, score=0.726 total time=   2.9s\n",
            "[CV 3/5] END learning_rate=1, max_depth=3, min_samples_split=5, n_estimators=300;, score=0.819 total time=   2.9s\n",
            "[CV 4/5] END learning_rate=1, max_depth=3, min_samples_split=5, n_estimators=300;, score=0.829 total time=   2.8s\n",
            "[CV 5/5] END learning_rate=1, max_depth=3, min_samples_split=5, n_estimators=300;, score=0.833 total time=   2.8s\n",
            "[CV 1/5] END learning_rate=1, max_depth=3, min_samples_split=5, n_estimators=500;, score=0.706 total time=   4.8s\n",
            "[CV 2/5] END learning_rate=1, max_depth=3, min_samples_split=5, n_estimators=500;, score=0.729 total time=   4.8s\n",
            "[CV 3/5] END learning_rate=1, max_depth=3, min_samples_split=5, n_estimators=500;, score=0.830 total time=   4.7s\n",
            "[CV 4/5] END learning_rate=1, max_depth=3, min_samples_split=5, n_estimators=500;, score=0.814 total time=   4.6s\n",
            "[CV 5/5] END learning_rate=1, max_depth=3, min_samples_split=5, n_estimators=500;, score=0.834 total time=   4.7s\n",
            "[CV 1/5] END learning_rate=1, max_depth=3, min_samples_split=5, n_estimators=600;, score=0.709 total time=   5.7s\n",
            "[CV 2/5] END learning_rate=1, max_depth=3, min_samples_split=5, n_estimators=600;, score=0.728 total time=   5.7s\n",
            "[CV 3/5] END learning_rate=1, max_depth=3, min_samples_split=5, n_estimators=600;, score=0.831 total time=   5.6s\n",
            "[CV 4/5] END learning_rate=1, max_depth=3, min_samples_split=5, n_estimators=600;, score=0.816 total time=   5.5s\n",
            "[CV 5/5] END learning_rate=1, max_depth=3, min_samples_split=5, n_estimators=600;, score=0.828 total time=   5.5s\n",
            "[CV 1/5] END learning_rate=1, max_depth=4, min_samples_split=2, n_estimators=100;, score=0.698 total time=   1.2s\n",
            "[CV 2/5] END learning_rate=1, max_depth=4, min_samples_split=2, n_estimators=100;, score=0.714 total time=   1.2s\n",
            "[CV 3/5] END learning_rate=1, max_depth=4, min_samples_split=2, n_estimators=100;, score=0.809 total time=   1.2s\n",
            "[CV 4/5] END learning_rate=1, max_depth=4, min_samples_split=2, n_estimators=100;, score=0.817 total time=   1.3s\n",
            "[CV 5/5] END learning_rate=1, max_depth=4, min_samples_split=2, n_estimators=100;, score=0.823 total time=   1.2s\n",
            "[CV 1/5] END learning_rate=1, max_depth=4, min_samples_split=2, n_estimators=300;, score=0.692 total time=   3.7s\n",
            "[CV 2/5] END learning_rate=1, max_depth=4, min_samples_split=2, n_estimators=300;, score=0.717 total time=   3.7s\n",
            "[CV 3/5] END learning_rate=1, max_depth=4, min_samples_split=2, n_estimators=300;, score=0.820 total time=   3.6s\n",
            "[CV 4/5] END learning_rate=1, max_depth=4, min_samples_split=2, n_estimators=300;, score=0.815 total time=   3.6s\n",
            "[CV 5/5] END learning_rate=1, max_depth=4, min_samples_split=2, n_estimators=300;, score=0.814 total time=   3.6s\n",
            "[CV 1/5] END learning_rate=1, max_depth=4, min_samples_split=2, n_estimators=500;, score=0.689 total time=   6.2s\n",
            "[CV 2/5] END learning_rate=1, max_depth=4, min_samples_split=2, n_estimators=500;, score=0.721 total time=   6.2s\n",
            "[CV 3/5] END learning_rate=1, max_depth=4, min_samples_split=2, n_estimators=500;, score=0.823 total time=   6.1s\n",
            "[CV 4/5] END learning_rate=1, max_depth=4, min_samples_split=2, n_estimators=500;, score=0.822 total time=   6.1s\n",
            "[CV 5/5] END learning_rate=1, max_depth=4, min_samples_split=2, n_estimators=500;, score=0.822 total time=   6.1s\n",
            "[CV 1/5] END learning_rate=1, max_depth=4, min_samples_split=2, n_estimators=600;, score=0.686 total time=   7.4s\n",
            "[CV 2/5] END learning_rate=1, max_depth=4, min_samples_split=2, n_estimators=600;, score=0.725 total time=   7.4s\n",
            "[CV 3/5] END learning_rate=1, max_depth=4, min_samples_split=2, n_estimators=600;, score=0.821 total time=   7.2s\n",
            "[CV 4/5] END learning_rate=1, max_depth=4, min_samples_split=2, n_estimators=600;, score=0.828 total time=   7.4s\n",
            "[CV 5/5] END learning_rate=1, max_depth=4, min_samples_split=2, n_estimators=600;, score=0.837 total time=   7.2s\n",
            "[CV 1/5] END learning_rate=1, max_depth=4, min_samples_split=3, n_estimators=100;, score=0.686 total time=   1.2s\n",
            "[CV 2/5] END learning_rate=1, max_depth=4, min_samples_split=3, n_estimators=100;, score=0.734 total time=   1.2s\n",
            "[CV 3/5] END learning_rate=1, max_depth=4, min_samples_split=3, n_estimators=100;, score=0.817 total time=   1.2s\n",
            "[CV 4/5] END learning_rate=1, max_depth=4, min_samples_split=3, n_estimators=100;, score=0.804 total time=   1.2s\n",
            "[CV 5/5] END learning_rate=1, max_depth=4, min_samples_split=3, n_estimators=100;, score=0.806 total time=   1.2s\n",
            "[CV 1/5] END learning_rate=1, max_depth=4, min_samples_split=3, n_estimators=300;, score=0.682 total time=   3.7s\n",
            "[CV 2/5] END learning_rate=1, max_depth=4, min_samples_split=3, n_estimators=300;, score=0.712 total time=   3.7s\n",
            "[CV 3/5] END learning_rate=1, max_depth=4, min_samples_split=3, n_estimators=300;, score=0.820 total time=   3.6s\n",
            "[CV 4/5] END learning_rate=1, max_depth=4, min_samples_split=3, n_estimators=300;, score=0.814 total time=   3.6s\n",
            "[CV 5/5] END learning_rate=1, max_depth=4, min_samples_split=3, n_estimators=300;, score=0.832 total time=   3.7s\n",
            "[CV 1/5] END learning_rate=1, max_depth=4, min_samples_split=3, n_estimators=500;, score=0.683 total time=   6.2s\n",
            "[CV 2/5] END learning_rate=1, max_depth=4, min_samples_split=3, n_estimators=500;, score=0.717 total time=   6.1s\n",
            "[CV 3/5] END learning_rate=1, max_depth=4, min_samples_split=3, n_estimators=500;, score=0.824 total time=   6.0s\n",
            "[CV 4/5] END learning_rate=1, max_depth=4, min_samples_split=3, n_estimators=500;, score=0.812 total time=   6.1s\n",
            "[CV 5/5] END learning_rate=1, max_depth=4, min_samples_split=3, n_estimators=500;, score=0.839 total time=   6.0s\n",
            "[CV 1/5] END learning_rate=1, max_depth=4, min_samples_split=3, n_estimators=600;, score=0.687 total time=   7.4s\n",
            "[CV 2/5] END learning_rate=1, max_depth=4, min_samples_split=3, n_estimators=600;, score=0.726 total time=   7.3s\n",
            "[CV 3/5] END learning_rate=1, max_depth=4, min_samples_split=3, n_estimators=600;, score=0.825 total time=   7.2s\n",
            "[CV 4/5] END learning_rate=1, max_depth=4, min_samples_split=3, n_estimators=600;, score=0.812 total time=   7.2s\n",
            "[CV 5/5] END learning_rate=1, max_depth=4, min_samples_split=3, n_estimators=600;, score=0.836 total time=   7.2s\n",
            "[CV 1/5] END learning_rate=1, max_depth=4, min_samples_split=4, n_estimators=100;, score=0.683 total time=   1.2s\n",
            "[CV 2/5] END learning_rate=1, max_depth=4, min_samples_split=4, n_estimators=100;, score=0.721 total time=   1.2s\n",
            "[CV 3/5] END learning_rate=1, max_depth=4, min_samples_split=4, n_estimators=100;, score=0.811 total time=   1.2s\n",
            "[CV 4/5] END learning_rate=1, max_depth=4, min_samples_split=4, n_estimators=100;, score=0.821 total time=   1.2s\n",
            "[CV 5/5] END learning_rate=1, max_depth=4, min_samples_split=4, n_estimators=100;, score=0.814 total time=   1.2s\n",
            "[CV 1/5] END learning_rate=1, max_depth=4, min_samples_split=4, n_estimators=300;, score=0.692 total time=   3.7s\n",
            "[CV 2/5] END learning_rate=1, max_depth=4, min_samples_split=4, n_estimators=300;, score=0.723 total time=   3.7s\n",
            "[CV 3/5] END learning_rate=1, max_depth=4, min_samples_split=4, n_estimators=300;, score=0.829 total time=   3.7s\n",
            "[CV 4/5] END learning_rate=1, max_depth=4, min_samples_split=4, n_estimators=300;, score=0.812 total time=   3.7s\n",
            "[CV 5/5] END learning_rate=1, max_depth=4, min_samples_split=4, n_estimators=300;, score=0.820 total time=   3.6s\n",
            "[CV 1/5] END learning_rate=1, max_depth=4, min_samples_split=4, n_estimators=500;, score=0.694 total time=   6.3s\n",
            "[CV 2/5] END learning_rate=1, max_depth=4, min_samples_split=4, n_estimators=500;, score=0.719 total time=   6.1s\n",
            "[CV 3/5] END learning_rate=1, max_depth=4, min_samples_split=4, n_estimators=500;, score=0.808 total time=   5.9s\n",
            "[CV 4/5] END learning_rate=1, max_depth=4, min_samples_split=4, n_estimators=500;, score=0.829 total time=   6.0s\n",
            "[CV 5/5] END learning_rate=1, max_depth=4, min_samples_split=4, n_estimators=500;, score=0.822 total time=   6.0s\n",
            "[CV 1/5] END learning_rate=1, max_depth=4, min_samples_split=4, n_estimators=600;, score=0.690 total time=   7.3s\n",
            "[CV 2/5] END learning_rate=1, max_depth=4, min_samples_split=4, n_estimators=600;, score=0.723 total time=   7.3s\n",
            "[CV 3/5] END learning_rate=1, max_depth=4, min_samples_split=4, n_estimators=600;, score=0.822 total time=   7.2s\n",
            "[CV 4/5] END learning_rate=1, max_depth=4, min_samples_split=4, n_estimators=600;, score=0.828 total time=   7.2s\n",
            "[CV 5/5] END learning_rate=1, max_depth=4, min_samples_split=4, n_estimators=600;, score=0.821 total time=   7.1s\n",
            "[CV 1/5] END learning_rate=1, max_depth=4, min_samples_split=5, n_estimators=100;, score=0.695 total time=   1.3s\n",
            "[CV 2/5] END learning_rate=1, max_depth=4, min_samples_split=5, n_estimators=100;, score=0.719 total time=   1.2s\n",
            "[CV 3/5] END learning_rate=1, max_depth=4, min_samples_split=5, n_estimators=100;, score=0.820 total time=   1.2s\n",
            "[CV 4/5] END learning_rate=1, max_depth=4, min_samples_split=5, n_estimators=100;, score=0.828 total time=   1.2s\n",
            "[CV 5/5] END learning_rate=1, max_depth=4, min_samples_split=5, n_estimators=100;, score=0.825 total time=   1.2s\n",
            "[CV 1/5] END learning_rate=1, max_depth=4, min_samples_split=5, n_estimators=300;, score=0.684 total time=   3.7s\n",
            "[CV 2/5] END learning_rate=1, max_depth=4, min_samples_split=5, n_estimators=300;, score=0.721 total time=   3.7s\n",
            "[CV 3/5] END learning_rate=1, max_depth=4, min_samples_split=5, n_estimators=300;, score=0.823 total time=   3.6s\n",
            "[CV 4/5] END learning_rate=1, max_depth=4, min_samples_split=5, n_estimators=300;, score=0.825 total time=   3.6s\n",
            "[CV 5/5] END learning_rate=1, max_depth=4, min_samples_split=5, n_estimators=300;, score=0.803 total time=   3.6s\n",
            "[CV 1/5] END learning_rate=1, max_depth=4, min_samples_split=5, n_estimators=500;, score=0.684 total time=   6.1s\n",
            "[CV 2/5] END learning_rate=1, max_depth=4, min_samples_split=5, n_estimators=500;, score=0.711 total time=   6.2s\n",
            "[CV 3/5] END learning_rate=1, max_depth=4, min_samples_split=5, n_estimators=500;, score=0.826 total time=   6.1s\n",
            "[CV 4/5] END learning_rate=1, max_depth=4, min_samples_split=5, n_estimators=500;, score=0.833 total time=   6.0s\n",
            "[CV 5/5] END learning_rate=1, max_depth=4, min_samples_split=5, n_estimators=500;, score=0.805 total time=   6.0s\n",
            "[CV 1/5] END learning_rate=1, max_depth=4, min_samples_split=5, n_estimators=600;, score=0.681 total time=   7.4s\n",
            "[CV 2/5] END learning_rate=1, max_depth=4, min_samples_split=5, n_estimators=600;, score=0.718 total time=   7.4s\n",
            "[CV 3/5] END learning_rate=1, max_depth=4, min_samples_split=5, n_estimators=600;, score=0.826 total time=   7.2s\n",
            "[CV 4/5] END learning_rate=1, max_depth=4, min_samples_split=5, n_estimators=600;, score=0.838 total time=   7.2s\n",
            "[CV 5/5] END learning_rate=1, max_depth=4, min_samples_split=5, n_estimators=600;, score=0.823 total time=   7.1s\n",
            "[CV 1/5] END learning_rate=1, max_depth=5, min_samples_split=2, n_estimators=100;, score=0.702 total time=   1.5s\n",
            "[CV 2/5] END learning_rate=1, max_depth=5, min_samples_split=2, n_estimators=100;, score=0.729 total time=   1.5s\n",
            "[CV 3/5] END learning_rate=1, max_depth=5, min_samples_split=2, n_estimators=100;, score=0.811 total time=   1.5s\n",
            "[CV 4/5] END learning_rate=1, max_depth=5, min_samples_split=2, n_estimators=100;, score=0.823 total time=   1.5s\n",
            "[CV 5/5] END learning_rate=1, max_depth=5, min_samples_split=2, n_estimators=100;, score=0.828 total time=   1.5s\n",
            "[CV 1/5] END learning_rate=1, max_depth=5, min_samples_split=2, n_estimators=300;, score=0.688 total time=   4.6s\n",
            "[CV 2/5] END learning_rate=1, max_depth=5, min_samples_split=2, n_estimators=300;, score=0.741 total time=   4.6s\n",
            "[CV 3/5] END learning_rate=1, max_depth=5, min_samples_split=2, n_estimators=300;, score=0.833 total time=   4.5s\n",
            "[CV 4/5] END learning_rate=1, max_depth=5, min_samples_split=2, n_estimators=300;, score=0.829 total time=   4.4s\n",
            "[CV 5/5] END learning_rate=1, max_depth=5, min_samples_split=2, n_estimators=300;, score=0.819 total time=   4.5s\n",
            "[CV 1/5] END learning_rate=1, max_depth=5, min_samples_split=2, n_estimators=500;, score=0.696 total time=   7.7s\n",
            "[CV 2/5] END learning_rate=1, max_depth=5, min_samples_split=2, n_estimators=500;, score=0.729 total time=   7.5s\n",
            "[CV 3/5] END learning_rate=1, max_depth=5, min_samples_split=2, n_estimators=500;, score=0.831 total time=   7.3s\n",
            "[CV 4/5] END learning_rate=1, max_depth=5, min_samples_split=2, n_estimators=500;, score=0.836 total time=   7.4s\n",
            "[CV 5/5] END learning_rate=1, max_depth=5, min_samples_split=2, n_estimators=500;, score=0.837 total time=   7.5s\n",
            "[CV 1/5] END learning_rate=1, max_depth=5, min_samples_split=2, n_estimators=600;, score=0.697 total time=   9.1s\n",
            "[CV 2/5] END learning_rate=1, max_depth=5, min_samples_split=2, n_estimators=600;, score=0.736 total time=   9.1s\n",
            "[CV 3/5] END learning_rate=1, max_depth=5, min_samples_split=2, n_estimators=600;, score=0.828 total time=   8.8s\n",
            "[CV 4/5] END learning_rate=1, max_depth=5, min_samples_split=2, n_estimators=600;, score=0.834 total time=   8.9s\n",
            "[CV 5/5] END learning_rate=1, max_depth=5, min_samples_split=2, n_estimators=600;, score=0.834 total time=   8.7s\n",
            "[CV 1/5] END learning_rate=1, max_depth=5, min_samples_split=3, n_estimators=100;, score=0.712 total time=   1.5s\n",
            "[CV 2/5] END learning_rate=1, max_depth=5, min_samples_split=3, n_estimators=100;, score=0.740 total time=   1.5s\n",
            "[CV 3/5] END learning_rate=1, max_depth=5, min_samples_split=3, n_estimators=100;, score=0.817 total time=   1.5s\n",
            "[CV 4/5] END learning_rate=1, max_depth=5, min_samples_split=3, n_estimators=100;, score=0.813 total time=   1.5s\n",
            "[CV 5/5] END learning_rate=1, max_depth=5, min_samples_split=3, n_estimators=100;, score=0.822 total time=   1.5s\n",
            "[CV 1/5] END learning_rate=1, max_depth=5, min_samples_split=3, n_estimators=300;, score=0.698 total time=   4.5s\n",
            "[CV 2/5] END learning_rate=1, max_depth=5, min_samples_split=3, n_estimators=300;, score=0.721 total time=   4.5s\n",
            "[CV 3/5] END learning_rate=1, max_depth=5, min_samples_split=3, n_estimators=300;, score=0.831 total time=   4.4s\n",
            "[CV 4/5] END learning_rate=1, max_depth=5, min_samples_split=3, n_estimators=300;, score=0.826 total time=   4.5s\n",
            "[CV 5/5] END learning_rate=1, max_depth=5, min_samples_split=3, n_estimators=300;, score=0.841 total time=   4.4s\n",
            "[CV 1/5] END learning_rate=1, max_depth=5, min_samples_split=3, n_estimators=500;, score=0.699 total time=   7.6s\n",
            "[CV 2/5] END learning_rate=1, max_depth=5, min_samples_split=3, n_estimators=500;, score=0.736 total time=   7.6s\n",
            "[CV 3/5] END learning_rate=1, max_depth=5, min_samples_split=3, n_estimators=500;, score=0.833 total time=   7.5s\n",
            "[CV 4/5] END learning_rate=1, max_depth=5, min_samples_split=3, n_estimators=500;, score=0.823 total time=   7.4s\n",
            "[CV 5/5] END learning_rate=1, max_depth=5, min_samples_split=3, n_estimators=500;, score=0.838 total time=   7.4s\n",
            "[CV 1/5] END learning_rate=1, max_depth=5, min_samples_split=3, n_estimators=600;, score=0.696 total time=   9.0s\n",
            "[CV 2/5] END learning_rate=1, max_depth=5, min_samples_split=3, n_estimators=600;, score=0.728 total time=   9.1s\n",
            "[CV 3/5] END learning_rate=1, max_depth=5, min_samples_split=3, n_estimators=600;, score=0.830 total time=   8.9s\n",
            "[CV 4/5] END learning_rate=1, max_depth=5, min_samples_split=3, n_estimators=600;, score=0.837 total time=   8.9s\n",
            "[CV 5/5] END learning_rate=1, max_depth=5, min_samples_split=3, n_estimators=600;, score=0.826 total time=   8.9s\n",
            "[CV 1/5] END learning_rate=1, max_depth=5, min_samples_split=4, n_estimators=100;, score=0.690 total time=   1.5s\n",
            "[CV 2/5] END learning_rate=1, max_depth=5, min_samples_split=4, n_estimators=100;, score=0.714 total time=   1.5s\n",
            "[CV 3/5] END learning_rate=1, max_depth=5, min_samples_split=4, n_estimators=100;, score=0.820 total time=   1.5s\n",
            "[CV 4/5] END learning_rate=1, max_depth=5, min_samples_split=4, n_estimators=100;, score=0.819 total time=   1.5s\n",
            "[CV 5/5] END learning_rate=1, max_depth=5, min_samples_split=4, n_estimators=100;, score=0.809 total time=   1.5s\n",
            "[CV 1/5] END learning_rate=1, max_depth=5, min_samples_split=4, n_estimators=300;, score=0.690 total time=   4.5s\n",
            "[CV 2/5] END learning_rate=1, max_depth=5, min_samples_split=4, n_estimators=300;, score=0.732 total time=   4.6s\n",
            "[CV 3/5] END learning_rate=1, max_depth=5, min_samples_split=4, n_estimators=300;, score=0.819 total time=   4.4s\n",
            "[CV 4/5] END learning_rate=1, max_depth=5, min_samples_split=4, n_estimators=300;, score=0.828 total time=   4.4s\n",
            "[CV 5/5] END learning_rate=1, max_depth=5, min_samples_split=4, n_estimators=300;, score=0.823 total time=   4.5s\n",
            "[CV 1/5] END learning_rate=1, max_depth=5, min_samples_split=4, n_estimators=500;, score=0.663 total time=   7.6s\n",
            "[CV 2/5] END learning_rate=1, max_depth=5, min_samples_split=4, n_estimators=500;, score=0.737 total time=   7.5s\n",
            "[CV 3/5] END learning_rate=1, max_depth=5, min_samples_split=4, n_estimators=500;, score=0.819 total time=   7.3s\n",
            "[CV 4/5] END learning_rate=1, max_depth=5, min_samples_split=4, n_estimators=500;, score=0.829 total time=   7.3s\n",
            "[CV 5/5] END learning_rate=1, max_depth=5, min_samples_split=4, n_estimators=500;, score=0.827 total time=   7.4s\n",
            "[CV 1/5] END learning_rate=1, max_depth=5, min_samples_split=4, n_estimators=600;, score=0.664 total time=   9.0s\n",
            "[CV 2/5] END learning_rate=1, max_depth=5, min_samples_split=4, n_estimators=600;, score=0.725 total time=   9.1s\n",
            "[CV 3/5] END learning_rate=1, max_depth=5, min_samples_split=4, n_estimators=600;, score=0.825 total time=   8.8s\n",
            "[CV 4/5] END learning_rate=1, max_depth=5, min_samples_split=4, n_estimators=600;, score=0.837 total time=   8.8s\n",
            "[CV 5/5] END learning_rate=1, max_depth=5, min_samples_split=4, n_estimators=600;, score=0.832 total time=   8.7s\n",
            "[CV 1/5] END learning_rate=1, max_depth=5, min_samples_split=5, n_estimators=100;, score=0.704 total time=   1.6s\n",
            "[CV 2/5] END learning_rate=1, max_depth=5, min_samples_split=5, n_estimators=100;, score=0.719 total time=   1.5s\n",
            "[CV 3/5] END learning_rate=1, max_depth=5, min_samples_split=5, n_estimators=100;, score=0.820 total time=   1.5s\n",
            "[CV 4/5] END learning_rate=1, max_depth=5, min_samples_split=5, n_estimators=100;, score=0.816 total time=   1.5s\n",
            "[CV 5/5] END learning_rate=1, max_depth=5, min_samples_split=5, n_estimators=100;, score=0.808 total time=   1.5s\n",
            "[CV 1/5] END learning_rate=1, max_depth=5, min_samples_split=5, n_estimators=300;, score=0.686 total time=   4.5s\n",
            "[CV 2/5] END learning_rate=1, max_depth=5, min_samples_split=5, n_estimators=300;, score=0.728 total time=   4.5s\n",
            "[CV 3/5] END learning_rate=1, max_depth=5, min_samples_split=5, n_estimators=300;, score=0.821 total time=   4.3s\n",
            "[CV 4/5] END learning_rate=1, max_depth=5, min_samples_split=5, n_estimators=300;, score=0.837 total time=   4.4s\n",
            "[CV 5/5] END learning_rate=1, max_depth=5, min_samples_split=5, n_estimators=300;, score=0.811 total time=   4.4s\n",
            "[CV 1/5] END learning_rate=1, max_depth=5, min_samples_split=5, n_estimators=500;, score=0.689 total time=   7.5s\n",
            "[CV 2/5] END learning_rate=1, max_depth=5, min_samples_split=5, n_estimators=500;, score=0.727 total time=   7.5s\n",
            "[CV 3/5] END learning_rate=1, max_depth=5, min_samples_split=5, n_estimators=500;, score=0.825 total time=   7.3s\n",
            "[CV 4/5] END learning_rate=1, max_depth=5, min_samples_split=5, n_estimators=500;, score=0.836 total time=   7.2s\n",
            "[CV 5/5] END learning_rate=1, max_depth=5, min_samples_split=5, n_estimators=500;, score=0.827 total time=   7.3s\n",
            "[CV 1/5] END learning_rate=1, max_depth=5, min_samples_split=5, n_estimators=600;, score=0.684 total time=   9.0s\n",
            "[CV 2/5] END learning_rate=1, max_depth=5, min_samples_split=5, n_estimators=600;, score=0.717 total time=   8.9s\n",
            "[CV 3/5] END learning_rate=1, max_depth=5, min_samples_split=5, n_estimators=600;, score=0.825 total time=   8.7s\n",
            "[CV 4/5] END learning_rate=1, max_depth=5, min_samples_split=5, n_estimators=600;, score=0.839 total time=   8.7s\n",
            "[CV 5/5] END learning_rate=1, max_depth=5, min_samples_split=5, n_estimators=600;, score=0.822 total time=   8.8s\n",
            "[CV 1/5] END learning_rate=1, max_depth=6, min_samples_split=2, n_estimators=100;, score=0.701 total time=   1.8s\n",
            "[CV 2/5] END learning_rate=1, max_depth=6, min_samples_split=2, n_estimators=100;, score=0.735 total time=   1.8s\n",
            "[CV 3/5] END learning_rate=1, max_depth=6, min_samples_split=2, n_estimators=100;, score=0.811 total time=   1.8s\n",
            "[CV 4/5] END learning_rate=1, max_depth=6, min_samples_split=2, n_estimators=100;, score=0.814 total time=   1.8s\n",
            "[CV 5/5] END learning_rate=1, max_depth=6, min_samples_split=2, n_estimators=100;, score=0.826 total time=   1.8s\n",
            "[CV 1/5] END learning_rate=1, max_depth=6, min_samples_split=2, n_estimators=300;, score=0.702 total time=   5.4s\n",
            "[CV 2/5] END learning_rate=1, max_depth=6, min_samples_split=2, n_estimators=300;, score=0.745 total time=   5.4s\n",
            "[CV 3/5] END learning_rate=1, max_depth=6, min_samples_split=2, n_estimators=300;, score=0.819 total time=   5.3s\n",
            "[CV 4/5] END learning_rate=1, max_depth=6, min_samples_split=2, n_estimators=300;, score=0.840 total time=   5.3s\n",
            "[CV 5/5] END learning_rate=1, max_depth=6, min_samples_split=2, n_estimators=300;, score=0.824 total time=   5.4s\n",
            "[CV 1/5] END learning_rate=1, max_depth=6, min_samples_split=2, n_estimators=500;, score=0.701 total time=   9.1s\n",
            "[CV 2/5] END learning_rate=1, max_depth=6, min_samples_split=2, n_estimators=500;, score=0.741 total time=   9.0s\n",
            "[CV 3/5] END learning_rate=1, max_depth=6, min_samples_split=2, n_estimators=500;, score=0.829 total time=   8.8s\n",
            "[CV 4/5] END learning_rate=1, max_depth=6, min_samples_split=2, n_estimators=500;, score=0.831 total time=   8.7s\n",
            "[CV 5/5] END learning_rate=1, max_depth=6, min_samples_split=2, n_estimators=500;, score=0.831 total time=   8.9s\n",
            "[CV 1/5] END learning_rate=1, max_depth=6, min_samples_split=2, n_estimators=600;, score=0.703 total time=  10.8s\n",
            "[CV 2/5] END learning_rate=1, max_depth=6, min_samples_split=2, n_estimators=600;, score=0.740 total time=  10.6s\n",
            "[CV 3/5] END learning_rate=1, max_depth=6, min_samples_split=2, n_estimators=600;, score=0.834 total time=  10.6s\n",
            "[CV 4/5] END learning_rate=1, max_depth=6, min_samples_split=2, n_estimators=600;, score=0.835 total time=  10.5s\n",
            "[CV 5/5] END learning_rate=1, max_depth=6, min_samples_split=2, n_estimators=600;, score=0.836 total time=  10.7s\n",
            "[CV 1/5] END learning_rate=1, max_depth=6, min_samples_split=3, n_estimators=100;, score=0.699 total time=   1.8s\n",
            "[CV 2/5] END learning_rate=1, max_depth=6, min_samples_split=3, n_estimators=100;, score=0.729 total time=   1.8s\n",
            "[CV 3/5] END learning_rate=1, max_depth=6, min_samples_split=3, n_estimators=100;, score=0.819 total time=   1.8s\n",
            "[CV 4/5] END learning_rate=1, max_depth=6, min_samples_split=3, n_estimators=100;, score=0.815 total time=   1.8s\n",
            "[CV 5/5] END learning_rate=1, max_depth=6, min_samples_split=3, n_estimators=100;, score=0.803 total time=   1.8s\n",
            "[CV 1/5] END learning_rate=1, max_depth=6, min_samples_split=3, n_estimators=300;, score=0.708 total time=   5.4s\n",
            "[CV 2/5] END learning_rate=1, max_depth=6, min_samples_split=3, n_estimators=300;, score=0.733 total time=   5.4s\n",
            "[CV 3/5] END learning_rate=1, max_depth=6, min_samples_split=3, n_estimators=300;, score=0.839 total time=   5.3s\n",
            "[CV 4/5] END learning_rate=1, max_depth=6, min_samples_split=3, n_estimators=300;, score=0.842 total time=   5.3s\n",
            "[CV 5/5] END learning_rate=1, max_depth=6, min_samples_split=3, n_estimators=300;, score=0.836 total time=   5.3s\n",
            "[CV 1/5] END learning_rate=1, max_depth=6, min_samples_split=3, n_estimators=500;, score=0.703 total time=   9.0s\n",
            "[CV 2/5] END learning_rate=1, max_depth=6, min_samples_split=3, n_estimators=500;, score=0.723 total time=   8.8s\n",
            "[CV 3/5] END learning_rate=1, max_depth=6, min_samples_split=3, n_estimators=500;, score=0.828 total time=   8.9s\n",
            "[CV 4/5] END learning_rate=1, max_depth=6, min_samples_split=3, n_estimators=500;, score=0.834 total time=   8.6s\n",
            "[CV 5/5] END learning_rate=1, max_depth=6, min_samples_split=3, n_estimators=500;, score=0.833 total time=   8.8s\n",
            "[CV 1/5] END learning_rate=1, max_depth=6, min_samples_split=3, n_estimators=600;, score=0.707 total time=  10.9s\n",
            "[CV 2/5] END learning_rate=1, max_depth=6, min_samples_split=3, n_estimators=600;, score=0.740 total time=  10.9s\n",
            "[CV 3/5] END learning_rate=1, max_depth=6, min_samples_split=3, n_estimators=600;, score=0.823 total time=  10.6s\n",
            "[CV 4/5] END learning_rate=1, max_depth=6, min_samples_split=3, n_estimators=600;, score=0.842 total time=  10.6s\n",
            "[CV 5/5] END learning_rate=1, max_depth=6, min_samples_split=3, n_estimators=600;, score=0.837 total time=  10.6s\n",
            "[CV 1/5] END learning_rate=1, max_depth=6, min_samples_split=4, n_estimators=100;, score=0.709 total time=   1.9s\n",
            "[CV 2/5] END learning_rate=1, max_depth=6, min_samples_split=4, n_estimators=100;, score=0.732 total time=   1.9s\n",
            "[CV 3/5] END learning_rate=1, max_depth=6, min_samples_split=4, n_estimators=100;, score=0.814 total time=   1.7s\n",
            "[CV 4/5] END learning_rate=1, max_depth=6, min_samples_split=4, n_estimators=100;, score=0.814 total time=   1.8s\n",
            "[CV 5/5] END learning_rate=1, max_depth=6, min_samples_split=4, n_estimators=100;, score=0.815 total time=   1.8s\n",
            "[CV 1/5] END learning_rate=1, max_depth=6, min_samples_split=4, n_estimators=300;, score=0.702 total time=   5.4s\n",
            "[CV 2/5] END learning_rate=1, max_depth=6, min_samples_split=4, n_estimators=300;, score=0.734 total time=   5.4s\n",
            "[CV 3/5] END learning_rate=1, max_depth=6, min_samples_split=4, n_estimators=300;, score=0.816 total time=   5.2s\n",
            "[CV 4/5] END learning_rate=1, max_depth=6, min_samples_split=4, n_estimators=300;, score=0.808 total time=   5.3s\n",
            "[CV 5/5] END learning_rate=1, max_depth=6, min_samples_split=4, n_estimators=300;, score=0.836 total time=   5.3s\n",
            "[CV 1/5] END learning_rate=1, max_depth=6, min_samples_split=4, n_estimators=500;, score=0.703 total time=   9.0s\n",
            "[CV 2/5] END learning_rate=1, max_depth=6, min_samples_split=4, n_estimators=500;, score=0.751 total time=   9.1s\n",
            "[CV 3/5] END learning_rate=1, max_depth=6, min_samples_split=4, n_estimators=500;, score=0.829 total time=   9.0s\n",
            "[CV 4/5] END learning_rate=1, max_depth=6, min_samples_split=4, n_estimators=500;, score=0.836 total time=   8.7s\n",
            "[CV 5/5] END learning_rate=1, max_depth=6, min_samples_split=4, n_estimators=500;, score=0.834 total time=   8.9s\n",
            "[CV 1/5] END learning_rate=1, max_depth=6, min_samples_split=4, n_estimators=600;, score=0.702 total time=  10.9s\n",
            "[CV 2/5] END learning_rate=1, max_depth=6, min_samples_split=4, n_estimators=600;, score=0.746 total time=  10.7s\n",
            "[CV 3/5] END learning_rate=1, max_depth=6, min_samples_split=4, n_estimators=600;, score=0.828 total time=  10.5s\n",
            "[CV 4/5] END learning_rate=1, max_depth=6, min_samples_split=4, n_estimators=600;, score=0.842 total time=  10.4s\n",
            "[CV 5/5] END learning_rate=1, max_depth=6, min_samples_split=4, n_estimators=600;, score=0.834 total time=  10.5s\n",
            "[CV 1/5] END learning_rate=1, max_depth=6, min_samples_split=5, n_estimators=100;, score=0.686 total time=   1.8s\n",
            "[CV 2/5] END learning_rate=1, max_depth=6, min_samples_split=5, n_estimators=100;, score=0.731 total time=   1.8s\n",
            "[CV 3/5] END learning_rate=1, max_depth=6, min_samples_split=5, n_estimators=100;, score=0.809 total time=   1.8s\n",
            "[CV 4/5] END learning_rate=1, max_depth=6, min_samples_split=5, n_estimators=100;, score=0.820 total time=   1.7s\n",
            "[CV 5/5] END learning_rate=1, max_depth=6, min_samples_split=5, n_estimators=100;, score=0.825 total time=   1.8s\n",
            "[CV 1/5] END learning_rate=1, max_depth=6, min_samples_split=5, n_estimators=300;, score=0.662 total time=   5.4s\n",
            "[CV 2/5] END learning_rate=1, max_depth=6, min_samples_split=5, n_estimators=300;, score=0.724 total time=   5.3s\n",
            "[CV 3/5] END learning_rate=1, max_depth=6, min_samples_split=5, n_estimators=300;, score=0.807 total time=   5.2s\n",
            "[CV 4/5] END learning_rate=1, max_depth=6, min_samples_split=5, n_estimators=300;, score=0.820 total time=   5.3s\n",
            "[CV 5/5] END learning_rate=1, max_depth=6, min_samples_split=5, n_estimators=300;, score=0.830 total time=   5.3s\n",
            "[CV 1/5] END learning_rate=1, max_depth=6, min_samples_split=5, n_estimators=500;, score=0.700 total time=   8.9s\n",
            "[CV 2/5] END learning_rate=1, max_depth=6, min_samples_split=5, n_estimators=500;, score=0.725 total time=   8.9s\n",
            "[CV 3/5] END learning_rate=1, max_depth=6, min_samples_split=5, n_estimators=500;, score=0.808 total time=   8.8s\n",
            "[CV 4/5] END learning_rate=1, max_depth=6, min_samples_split=5, n_estimators=500;, score=0.837 total time=   8.7s\n",
            "[CV 5/5] END learning_rate=1, max_depth=6, min_samples_split=5, n_estimators=500;, score=0.840 total time=   8.8s\n",
            "[CV 1/5] END learning_rate=1, max_depth=6, min_samples_split=5, n_estimators=600;, score=0.700 total time=  10.5s\n",
            "[CV 2/5] END learning_rate=1, max_depth=6, min_samples_split=5, n_estimators=600;, score=0.727 total time=  10.8s\n",
            "[CV 3/5] END learning_rate=1, max_depth=6, min_samples_split=5, n_estimators=600;, score=0.816 total time=  10.2s\n",
            "[CV 4/5] END learning_rate=1, max_depth=6, min_samples_split=5, n_estimators=600;, score=0.835 total time=  10.3s\n",
            "[CV 5/5] END learning_rate=1, max_depth=6, min_samples_split=5, n_estimators=600;, score=0.834 total time=  10.5s\n",
            "[CV 1/5] END learning_rate=1, max_depth=7, min_samples_split=2, n_estimators=100;, score=0.703 total time=   2.2s\n",
            "[CV 2/5] END learning_rate=1, max_depth=7, min_samples_split=2, n_estimators=100;, score=0.738 total time=   2.2s\n",
            "[CV 3/5] END learning_rate=1, max_depth=7, min_samples_split=2, n_estimators=100;, score=0.807 total time=   2.1s\n",
            "[CV 4/5] END learning_rate=1, max_depth=7, min_samples_split=2, n_estimators=100;, score=0.825 total time=   2.1s\n",
            "[CV 5/5] END learning_rate=1, max_depth=7, min_samples_split=2, n_estimators=100;, score=0.817 total time=   2.1s\n",
            "[CV 1/5] END learning_rate=1, max_depth=7, min_samples_split=2, n_estimators=300;, score=0.700 total time=   6.5s\n",
            "[CV 2/5] END learning_rate=1, max_depth=7, min_samples_split=2, n_estimators=300;, score=0.742 total time=   6.4s\n",
            "[CV 3/5] END learning_rate=1, max_depth=7, min_samples_split=2, n_estimators=300;, score=0.820 total time=   6.3s\n",
            "[CV 4/5] END learning_rate=1, max_depth=7, min_samples_split=2, n_estimators=300;, score=0.836 total time=   6.3s\n",
            "[CV 5/5] END learning_rate=1, max_depth=7, min_samples_split=2, n_estimators=300;, score=0.833 total time=   6.3s\n",
            "[CV 1/5] END learning_rate=1, max_depth=7, min_samples_split=2, n_estimators=500;, score=0.694 total time=  10.5s\n",
            "[CV 2/5] END learning_rate=1, max_depth=7, min_samples_split=2, n_estimators=500;, score=0.740 total time=  10.6s\n",
            "[CV 3/5] END learning_rate=1, max_depth=7, min_samples_split=2, n_estimators=500;, score=0.831 total time=  10.3s\n",
            "[CV 4/5] END learning_rate=1, max_depth=7, min_samples_split=2, n_estimators=500;, score=0.843 total time=  10.4s\n",
            "[CV 5/5] END learning_rate=1, max_depth=7, min_samples_split=2, n_estimators=500;, score=0.831 total time=  10.3s\n",
            "[CV 1/5] END learning_rate=1, max_depth=7, min_samples_split=2, n_estimators=600;, score=0.711 total time=  12.6s\n",
            "[CV 2/5] END learning_rate=1, max_depth=7, min_samples_split=2, n_estimators=600;, score=0.746 total time=  12.7s\n",
            "[CV 3/5] END learning_rate=1, max_depth=7, min_samples_split=2, n_estimators=600;, score=0.846 total time=  12.6s\n",
            "[CV 4/5] END learning_rate=1, max_depth=7, min_samples_split=2, n_estimators=600;, score=0.842 total time=  12.5s\n",
            "[CV 5/5] END learning_rate=1, max_depth=7, min_samples_split=2, n_estimators=600;, score=0.833 total time=  12.4s\n",
            "[CV 1/5] END learning_rate=1, max_depth=7, min_samples_split=3, n_estimators=100;, score=0.709 total time=   2.2s\n",
            "[CV 2/5] END learning_rate=1, max_depth=7, min_samples_split=3, n_estimators=100;, score=0.743 total time=   2.1s\n",
            "[CV 3/5] END learning_rate=1, max_depth=7, min_samples_split=3, n_estimators=100;, score=0.834 total time=   2.1s\n",
            "[CV 4/5] END learning_rate=1, max_depth=7, min_samples_split=3, n_estimators=100;, score=0.820 total time=   2.1s\n",
            "[CV 5/5] END learning_rate=1, max_depth=7, min_samples_split=3, n_estimators=100;, score=0.803 total time=   2.1s\n",
            "[CV 1/5] END learning_rate=1, max_depth=7, min_samples_split=3, n_estimators=300;, score=0.701 total time=   6.3s\n",
            "[CV 2/5] END learning_rate=1, max_depth=7, min_samples_split=3, n_estimators=300;, score=0.743 total time=   6.3s\n",
            "[CV 3/5] END learning_rate=1, max_depth=7, min_samples_split=3, n_estimators=300;, score=0.840 total time=   6.2s\n",
            "[CV 4/5] END learning_rate=1, max_depth=7, min_samples_split=3, n_estimators=300;, score=0.848 total time=   6.2s\n",
            "[CV 5/5] END learning_rate=1, max_depth=7, min_samples_split=3, n_estimators=300;, score=0.826 total time=   6.1s\n",
            "[CV 1/5] END learning_rate=1, max_depth=7, min_samples_split=3, n_estimators=500;, score=0.697 total time=  10.3s\n",
            "[CV 2/5] END learning_rate=1, max_depth=7, min_samples_split=3, n_estimators=500;, score=0.750 total time=  10.6s\n",
            "[CV 3/5] END learning_rate=1, max_depth=7, min_samples_split=3, n_estimators=500;, score=0.839 total time=  10.2s\n",
            "[CV 4/5] END learning_rate=1, max_depth=7, min_samples_split=3, n_estimators=500;, score=0.834 total time=   9.9s\n",
            "[CV 5/5] END learning_rate=1, max_depth=7, min_samples_split=3, n_estimators=500;, score=0.839 total time=  10.0s\n",
            "[CV 1/5] END learning_rate=1, max_depth=7, min_samples_split=3, n_estimators=600;, score=0.699 total time=  12.5s\n",
            "[CV 2/5] END learning_rate=1, max_depth=7, min_samples_split=3, n_estimators=600;, score=0.742 total time=  12.5s\n",
            "[CV 3/5] END learning_rate=1, max_depth=7, min_samples_split=3, n_estimators=600;, score=0.842 total time=  12.2s\n",
            "[CV 4/5] END learning_rate=1, max_depth=7, min_samples_split=3, n_estimators=600;, score=0.846 total time=  12.4s\n",
            "[CV 5/5] END learning_rate=1, max_depth=7, min_samples_split=3, n_estimators=600;, score=0.833 total time=  12.2s\n",
            "[CV 1/5] END learning_rate=1, max_depth=7, min_samples_split=4, n_estimators=100;, score=0.681 total time=   2.1s\n",
            "[CV 2/5] END learning_rate=1, max_depth=7, min_samples_split=4, n_estimators=100;, score=0.736 total time=   2.1s\n",
            "[CV 3/5] END learning_rate=1, max_depth=7, min_samples_split=4, n_estimators=100;, score=0.812 total time=   2.1s\n",
            "[CV 4/5] END learning_rate=1, max_depth=7, min_samples_split=4, n_estimators=100;, score=0.817 total time=   2.1s\n",
            "[CV 5/5] END learning_rate=1, max_depth=7, min_samples_split=4, n_estimators=100;, score=0.819 total time=   2.1s\n",
            "[CV 1/5] END learning_rate=1, max_depth=7, min_samples_split=4, n_estimators=300;, score=0.711 total time=   6.4s\n",
            "[CV 2/5] END learning_rate=1, max_depth=7, min_samples_split=4, n_estimators=300;, score=0.738 total time=   6.4s\n",
            "[CV 3/5] END learning_rate=1, max_depth=7, min_samples_split=4, n_estimators=300;, score=0.828 total time=   6.1s\n",
            "[CV 4/5] END learning_rate=1, max_depth=7, min_samples_split=4, n_estimators=300;, score=0.831 total time=   6.0s\n",
            "[CV 5/5] END learning_rate=1, max_depth=7, min_samples_split=4, n_estimators=300;, score=0.831 total time=   6.1s\n",
            "[CV 1/5] END learning_rate=1, max_depth=7, min_samples_split=4, n_estimators=500;, score=0.721 total time=  10.6s\n",
            "[CV 2/5] END learning_rate=1, max_depth=7, min_samples_split=4, n_estimators=500;, score=0.737 total time=  10.3s\n",
            "[CV 3/5] END learning_rate=1, max_depth=7, min_samples_split=4, n_estimators=500;, score=0.824 total time=   9.9s\n",
            "[CV 4/5] END learning_rate=1, max_depth=7, min_samples_split=4, n_estimators=500;, score=0.844 total time=  10.2s\n",
            "[CV 5/5] END learning_rate=1, max_depth=7, min_samples_split=4, n_estimators=500;, score=0.823 total time=  10.2s\n",
            "[CV 1/5] END learning_rate=1, max_depth=7, min_samples_split=4, n_estimators=600;, score=0.694 total time=  12.7s\n",
            "[CV 2/5] END learning_rate=1, max_depth=7, min_samples_split=4, n_estimators=600;, score=0.740 total time=  12.5s\n",
            "[CV 3/5] END learning_rate=1, max_depth=7, min_samples_split=4, n_estimators=600;, score=0.839 total time=  12.0s\n",
            "[CV 4/5] END learning_rate=1, max_depth=7, min_samples_split=4, n_estimators=600;, score=0.839 total time=  12.0s\n",
            "[CV 5/5] END learning_rate=1, max_depth=7, min_samples_split=4, n_estimators=600;, score=0.831 total time=  12.3s\n",
            "[CV 1/5] END learning_rate=1, max_depth=7, min_samples_split=5, n_estimators=100;, score=0.712 total time=   2.2s\n",
            "[CV 2/5] END learning_rate=1, max_depth=7, min_samples_split=5, n_estimators=100;, score=0.734 total time=   2.1s\n",
            "[CV 3/5] END learning_rate=1, max_depth=7, min_samples_split=5, n_estimators=100;, score=0.793 total time=   2.1s\n",
            "[CV 4/5] END learning_rate=1, max_depth=7, min_samples_split=5, n_estimators=100;, score=0.805 total time=   2.1s\n",
            "[CV 5/5] END learning_rate=1, max_depth=7, min_samples_split=5, n_estimators=100;, score=0.812 total time=   2.1s\n",
            "[CV 1/5] END learning_rate=1, max_depth=7, min_samples_split=5, n_estimators=300;, score=0.705 total time=   6.3s\n",
            "[CV 2/5] END learning_rate=1, max_depth=7, min_samples_split=5, n_estimators=300;, score=0.734 total time=   6.3s\n",
            "[CV 3/5] END learning_rate=1, max_depth=7, min_samples_split=5, n_estimators=300;, score=0.836 total time=   6.1s\n",
            "[CV 4/5] END learning_rate=1, max_depth=7, min_samples_split=5, n_estimators=300;, score=0.839 total time=   6.2s\n",
            "[CV 5/5] END learning_rate=1, max_depth=7, min_samples_split=5, n_estimators=300;, score=0.831 total time=   6.3s\n",
            "[CV 1/5] END learning_rate=1, max_depth=7, min_samples_split=5, n_estimators=500;, score=0.695 total time=  10.3s\n",
            "[CV 2/5] END learning_rate=1, max_depth=7, min_samples_split=5, n_estimators=500;, score=0.751 total time=  10.5s\n",
            "[CV 3/5] END learning_rate=1, max_depth=7, min_samples_split=5, n_estimators=500;, score=0.822 total time=  10.2s\n",
            "[CV 4/5] END learning_rate=1, max_depth=7, min_samples_split=5, n_estimators=500;, score=0.824 total time=   9.9s\n",
            "[CV 5/5] END learning_rate=1, max_depth=7, min_samples_split=5, n_estimators=500;, score=0.837 total time=  10.2s\n",
            "[CV 1/5] END learning_rate=1, max_depth=7, min_samples_split=5, n_estimators=600;, score=0.701 total time=  11.9s\n",
            "[CV 2/5] END learning_rate=1, max_depth=7, min_samples_split=5, n_estimators=600;, score=0.723 total time=  11.8s\n",
            "[CV 3/5] END learning_rate=1, max_depth=7, min_samples_split=5, n_estimators=600;, score=0.833 total time=  11.6s\n",
            "[CV 4/5] END learning_rate=1, max_depth=7, min_samples_split=5, n_estimators=600;, score=0.845 total time=  12.3s\n",
            "[CV 5/5] END learning_rate=1, max_depth=7, min_samples_split=5, n_estimators=600;, score=0.836 total time=  12.2s\n"
          ]
        },
        {
          "output_type": "execute_result",
          "data": {
            "text/plain": [
              "GridSearchCV(cv=5, estimator=GradientBoostingClassifier(), n_jobs=1,\n",
              "             param_grid={'learning_rate': [0.1, 1],\n",
              "                         'max_depth': [3, 4, 5, 6, 7],\n",
              "                         'min_samples_split': [2, 3, 4, 5],\n",
              "                         'n_estimators': [100, 300, 500, 600]},\n",
              "             verbose=3)"
            ]
          },
          "metadata": {},
          "execution_count": 98
        }
      ],
      "source": [
        "otimiz = GridSearchCV(modelo_escolhido, hiperparametros, cv = 5,  verbose = 3, n_jobs = 1)\n",
        "otimiz.fit(X_sm_train, y_sm_train)"
      ]
    },
    {
      "cell_type": "code",
      "execution_count": 99,
      "metadata": {
        "colab": {
          "base_uri": "https://localhost:8080/"
        },
        "id": "WDGylN-mJbls",
        "outputId": "abe61a14-9a32-46a7-d5b1-298f01d1589d"
      },
      "outputs": [
        {
          "output_type": "stream",
          "name": "stdout",
          "text": [
            "{'learning_rate': 0.1, 'max_depth': 7, 'min_samples_split': 5, 'n_estimators': 300}\n"
          ]
        }
      ],
      "source": [
        "best_par = otimiz.best_params_\n",
        "print(best_par)"
      ]
    },
    {
      "cell_type": "code",
      "execution_count": 100,
      "metadata": {
        "id": "kL8KSGsMJbls"
      },
      "outputs": [],
      "source": [
        "modelo_churn_otimizado = GradientBoostingClassifier(max_depth = best_par['max_depth'],\n",
        "                                                    min_samples_split = best_par['min_samples_split'], \n",
        "                                                    n_estimators = best_par['n_estimators'],\n",
        "                                                    learning_rate = best_par['learning_rate'], random_state = 53)"
      ]
    },
    {
      "cell_type": "code",
      "execution_count": 101,
      "metadata": {
        "id": "mpzZR5DaJbls"
      },
      "outputs": [],
      "source": [
        "modelo_churn_otimizado = modelo_churn_otimizado.fit(X_sm_train, y_sm_train)"
      ]
    },
    {
      "cell_type": "code",
      "execution_count": 102,
      "metadata": {
        "id": "aXG5Q2V3Jbls"
      },
      "outputs": [],
      "source": [
        "y_pred_modelo_churn_otimizado = modelo_churn_otimizado.predict(X_sm_test)"
      ]
    },
    {
      "cell_type": "code",
      "execution_count": 103,
      "metadata": {
        "id": "VXsA7m6SJbls"
      },
      "outputs": [],
      "source": [
        "y_test_modelo_churn_otimizado = y_sm_test"
      ]
    },
    {
      "cell_type": "code",
      "execution_count": 104,
      "metadata": {
        "colab": {
          "base_uri": "https://localhost:8080/"
        },
        "id": "euVLSM0fJbls",
        "outputId": "abf1348b-0fc3-4155-8439-ba85db5867cf"
      },
      "outputs": [
        {
          "output_type": "stream",
          "name": "stdout",
          "text": [
            "              precision    recall  f1-score   support\n",
            "\n",
            "           0       0.81      0.84      0.83      1054\n",
            "           1       0.83      0.81      0.82      1054\n",
            "\n",
            "    accuracy                           0.82      2108\n",
            "   macro avg       0.82      0.82      0.82      2108\n",
            "weighted avg       0.82      0.82      0.82      2108\n",
            "\n"
          ]
        }
      ],
      "source": [
        "print(classification_report(y_test_modelo_churn_otimizado, y_pred_modelo_churn_otimizado))"
      ]
    },
    {
      "cell_type": "markdown",
      "metadata": {
        "id": "pEjWsolMp0go"
      },
      "source": [
        "<p style='font-size: 16px; line-height: 2; margin: 10px 50px; text-align: justify;'>Percebemos que houve uma melhora discreta na qualidade de predição do nosso modelo escohido. Por fim, iremos calcular o intervalo (95% de confiança) relativo ao score do modelo para os melhores parâmetros selecionados e salvá-lo para posterior deployment.</p>"
      ]
    },
    {
      "cell_type": "code",
      "execution_count": 105,
      "metadata": {
        "colab": {
          "base_uri": "https://localhost:8080/"
        },
        "id": "fEaPenbTJbls",
        "outputId": "c86ffdae-3cec-4889-9df9-c64113110bb6"
      },
      "outputs": [
        {
          "output_type": "stream",
          "name": "stdout",
          "text": [
            "Intervalo de confiança [0.71, 0.90]\n"
          ]
        }
      ],
      "source": [
        "media = otimiz.best_score_\n",
        "desvio = otimiz.cv_results_['std_test_score'][otimiz.best_index_]\n",
        "print(\"Intervalo de confiança [%.2f, %.2f]\" % (media - 2 * desvio, media + 2 * desvio))"
      ]
    },
    {
      "cell_type": "code",
      "execution_count": 106,
      "metadata": {
        "id": "DcnUSUrNJbls"
      },
      "outputs": [],
      "source": [
        "modelo_final = 'modelo_churn.sav'\n",
        "joblib.dump(modelo_churn_otimizado, modelo_final)"
      ]
    },
    {
      "cell_type": "code",
      "source": [
        ""
      ],
      "metadata": {
        "id": "vrgiUho4dAGW"
      },
      "execution_count": null,
      "outputs": []
    }
  ],
  "metadata": {
    "colab": {
      "collapsed_sections": [],
      "name": "Alura_Challenge_Semana_03_(1).ipynb",
      "provenance": []
    },
    "kernelspec": {
      "display_name": "Python 3 (ipykernel)",
      "language": "python",
      "name": "python3"
    },
    "language_info": {
      "codemirror_mode": {
        "name": "ipython",
        "version": 3
      },
      "file_extension": ".py",
      "mimetype": "text/x-python",
      "name": "python",
      "nbconvert_exporter": "python",
      "pygments_lexer": "ipython3",
      "version": "3.9.7"
    }
  },
  "nbformat": 4,
  "nbformat_minor": 0
}